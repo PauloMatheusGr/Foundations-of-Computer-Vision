{
 "cells": [
  {
   "cell_type": "markdown",
   "metadata": {},
   "source": [
    "# Análise de similaridade entre textos e imagens e engenharia de prompt\n",
    "\n",
    "1. Usar o modelo CLIP para extrair atributos de 1000 imagens de cachorro e 1000 imagens de gato\n",
    "2. Extrair também os atributos das palavras \"Dog\" e \"Cat\"\n",
    "3. Plotar histogramas das similares entre as imagens e as palavras \"Dog\" e \"Cat\" (2 histogramas)\n",
    "4. Plotar um gráfico de dispersão entre as similaridades de cada imagem e as palavras \"Dog\" e \"Cat\". Cada ponto do gráfico representa uma imagem, e os eixos x e y representam a similaridade da imagem com a palavra \"Dog\" e \"Cat\"\n",
    "5. Encontrar as 10 imagens que possuam maior similaridade com ambas as palavras ao mesmo tempo. A ideia é que essas imagens estão na interface entre a palavra \"Dog\" e \"Cat\". Quais são essas imagens? Porque eleas estão na interface?\n",
    "7. Repetir os experimentos utilizando outros termos ao invés das palavras \"Dog\" e \"Cat\":\n",
    "    * \"A photo of a dog\" e \"A photo of a cat\"\n",
    "    * \"A photo of a dog, a type of pet\" e \"A photo of a cat, a type of pet\"\n",
    "8. Calcular a acurácia do modelo CLIP do Hugginface no dataset Oxford Pets original, que consiste em diferentes raças de cachorros e gatos. Utilizar o prompt \"A photo of a {nome_classe}, a type of pet\""
   ]
  },
  {
   "cell_type": "code",
   "execution_count": 13,
   "metadata": {},
   "outputs": [
    {
     "name": "stdout",
     "output_type": "stream",
     "text": [
      "['Abyssinian', 'American Bulldog', 'American Pit Bull Terrier', 'Basset Hound', 'Beagle', 'Bengal', 'Birman', 'Bombay', 'Boxer', 'British Shorthair', 'Chihuahua', 'Egyptian Mau', 'English Cocker Spaniel', 'English Setter', 'German Shorthaired', 'Great Pyrenees', 'Havanese', 'Japanese Chin', 'Keeshond', 'Leonberger', 'Maine Coon', 'Miniature Pinscher', 'Newfoundland', 'Persian', 'Pomeranian', 'Pug', 'Ragdoll', 'Russian Blue', 'Saint Bernard', 'Samoyed', 'Scottish Terrier', 'Shiba Inu', 'Siamese', 'Sphynx', 'Staffordshire Bull Terrier', 'Wheaten Terrier', 'Yorkshire Terrier']\n"
     ]
    }
   ],
   "source": [
    "from torchvision.datasets import OxfordIIITPet\n",
    "\n",
    "ds = OxfordIIITPet('K:/datasets/segmentation')\n",
    "print(ds.classes)"
   ]
  }
 ],
 "metadata": {
  "kernelspec": {
   "display_name": "vc2024",
   "language": "python",
   "name": "python3"
  },
  "language_info": {
   "codemirror_mode": {
    "name": "ipython",
    "version": 3
   },
   "file_extension": ".py",
   "mimetype": "text/x-python",
   "name": "python",
   "nbconvert_exporter": "python",
   "pygments_lexer": "ipython3",
   "version": "3.12.2"
  }
 },
 "nbformat": 4,
 "nbformat_minor": 2
}
