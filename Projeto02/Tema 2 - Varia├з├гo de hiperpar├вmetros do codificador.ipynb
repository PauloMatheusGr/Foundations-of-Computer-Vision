{
 "cells": [
  {
   "cell_type": "markdown",
   "metadata": {},
   "source": [
    "# Variação de hiperparâmetros do decodificador\n",
    "\n",
    "1. Para a arquitetura EncoderDecoder implementada em aula, treinar a rede no dataset Oxford Pets variando as configurações do decodificador de acordo com as instruções abaixo\n",
    "2. Na aula, o decodificador foi construído a partir de 5 tensores de atributos extraídos da ResNet. Esses tensores possuem stride (passo) 2, 4, 8, 16 e 32. Lembrando que o stride define a redução de resolução a partir da imagem original.\n",
    "3. Modifique o decodificador e treine o modelo EncoderDecoder para verificar a qualidade do resultado. Utilize as seguintes variações do decodificador:\n",
    "    * Utilizar apenas os atributos no stride 32\n",
    "    * Utilizar apenas os atributos no stride 2\n",
    "    * Utilizar os atributos nos strides 2 e 32\n",
    "    * Utilizar os atributos nos strides 2, 8 e 32\n",
    "    * Utilizar os atributos nos strides 2 e 32 mas adicionar uma sequência de camadas conv-batchnorm-relu extra para cada bloco do decodificador. \n",
    "4. Avalie a qualidade da segmentação em todos os testes em relação ao custo computacional de cada modelo\n",
    "\n",
    "Lembre-se de utilizar um codificador pré-treinado, o que reduz muito o número de épocas de treinamento."
   ]
  },
  {
   "cell_type": "markdown",
   "metadata": {},
   "source": [
    "Extração dos atributos no stride 8 de uma ResNet"
   ]
  },
  {
   "cell_type": "code",
   "execution_count": 1,
   "metadata": {},
   "outputs": [],
   "source": [
    "def get_features(model, x):\n",
    "    \n",
    "    features = []\n",
    "    x = model.conv1(x)\n",
    "    x = model.bn1(x)\n",
    "    x = model.relu(x)\n",
    "    x = model.maxpool(x)\n",
    "\n",
    "    x = model.layer1(x)\n",
    "    x = model.layer2(x)\n",
    "    features.append(x)\n",
    "    x = model.layer3(x)\n",
    "    x = model.layer4(x)\n",
    "\n",
    "    return features"
   ]
  }
 ],
 "metadata": {
  "kernelspec": {
   "display_name": "vc2024",
   "language": "python",
   "name": "python3"
  },
  "language_info": {
   "codemirror_mode": {
    "name": "ipython",
    "version": 3
   },
   "file_extension": ".py",
   "mimetype": "text/x-python",
   "name": "python",
   "nbconvert_exporter": "python",
   "pygments_lexer": "ipython3",
   "version": "3.12.2"
  }
 },
 "nbformat": 4,
 "nbformat_minor": 2
}
