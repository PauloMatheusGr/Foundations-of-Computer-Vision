{
 "cells": [
  {
   "cell_type": "markdown",
   "metadata": {},
   "source": [
    "# Similaridade entre imagens\n",
    "\n",
    "1. Para uma base de imagens possuindo 1000 imagens (pode ser a Oxford Pets), usar a resnet 18 para implementar um sistema de busca de imagens similares;\n",
    "2. Dada uma imagem de entrada, o sistema identifica a imagem mais similar dentre as 1000 imagens da base;\n",
    "3. Use os atributos gerados pela resnet 18 (código abaixo) para comparar as imagens;"
   ]
  },
  {
   "cell_type": "markdown",
   "metadata": {},
   "source": [
    "Extração dos atributos"
   ]
  },
  {
   "cell_type": "code",
   "execution_count": 2,
   "metadata": {},
   "outputs": [
    {
     "data": {
      "text/plain": [
       "torch.Size([1, 512])"
      ]
     },
     "execution_count": 2,
     "metadata": {},
     "output_type": "execute_result"
    }
   ],
   "source": [
    "import torch\n",
    "from torch import nn\n",
    "from torchvision import models\n",
    "\n",
    "# Imagem aleatória para ilustração\n",
    "img = torch.rand(1, 3, 224, 224)\n",
    "\n",
    "model = models.resnet18(weights=models.ResNet18_Weights.DEFAULT)\n",
    "model.fc = nn.Identity()\n",
    "model.eval()\n",
    "\n",
    "with torch.no_grad():\n",
    "    features = model(img)\n",
    "features.shape"
   ]
  },
  {
   "cell_type": "markdown",
   "metadata": {},
   "source": [
    "Comparação entre as imagens"
   ]
  },
  {
   "cell_type": "code",
   "execution_count": null,
   "metadata": {},
   "outputs": [],
   "source": [
    "def dist(f1, f2):\n",
    "    \"\"\"Distância euclideana entre dois tensores\"\"\"\n",
    "\n",
    "    return torch.sqrt(torch.sum((f1-f2)**2))\n",
    "\n",
    "\n",
    "input_img = ...\n",
    "dataset = ... # Matriz de tamanho 1000 x 512\n",
    "\n",
    "# Encontra a imagem em `dataset` com a menor distância euclideanda em relação à input_img\n"
   ]
  }
 ],
 "metadata": {
  "kernelspec": {
   "display_name": "vc2024",
   "language": "python",
   "name": "python3"
  },
  "language_info": {
   "codemirror_mode": {
    "name": "ipython",
    "version": 3
   },
   "file_extension": ".py",
   "mimetype": "text/x-python",
   "name": "python",
   "nbconvert_exporter": "python",
   "pygments_lexer": "ipython3",
   "version": "3.12.2"
  }
 },
 "nbformat": 4,
 "nbformat_minor": 2
}
