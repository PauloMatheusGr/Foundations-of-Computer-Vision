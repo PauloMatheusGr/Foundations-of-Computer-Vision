{
 "cells": [
  {
   "cell_type": "markdown",
   "metadata": {},
   "source": [
    "# Estatísticas dos parâmetros de um modelo\n",
    "\n",
    "1. Faça uma função que receba como entrada uma rede neural e retorne um dicionário no qual cada chave é o nome de um parâmetro do modelo e os respectivos valores são:\n",
    "    * O maior e menor valor do parâmetro;\n",
    "    * O maior e menor valor do gradiente do parâmetro;\n",
    "2. Faça uma função que receba o dicionário de 1 e retorne o menor e maior valor dentre todos os parâmetros e todos os gradientes (4 valores no total);\n",
    "2. Modifique o script de treinamento visto nas aulas para plotar além da loss e da acurácia, os menores e maiores valores retornados em 2. Crie um terceiro gráfico (além do gráfico da loss e acurácia), para mostrar os valores. Os valores devem ser plotados **durante o treinamento da rede**\n",
    "    "
   ]
  },
  {
   "cell_type": "markdown",
   "metadata": {},
   "source": [
    "Exemplo"
   ]
  },
  {
   "cell_type": "code",
   "execution_count": 2,
   "metadata": {},
   "outputs": [],
   "source": [
    "import torch\n",
    "from torch import nn\n",
    "from torchvision import models\n",
    "\n",
    "# Imagem aleatória para ilustração\n",
    "img = torch.rand(1, 3, 224, 224)\n",
    "model = models.resnet18(weights=models.ResNet18_Weights.DEFAULT)"
   ]
  },
  {
   "cell_type": "markdown",
   "metadata": {},
   "source": [
    "Exemplo"
   ]
  },
  {
   "cell_type": "code",
   "execution_count": 3,
   "metadata": {},
   "outputs": [
    {
     "data": {
      "text/plain": [
       "{'conv1.weight': {'g_max': 0.0005236066645011306},\n",
       " 'bn1.weight': {'g_max': 0.001010195934213698},\n",
       " 'bn1.bias': {'g_max': 0.0002801873197313398},\n",
       " 'layer1.0.conv1.weight': {'g_max': 0.00020345485245343298},\n",
       " 'layer1.0.bn1.weight': {'g_max': 0.00033277072361670434},\n",
       " 'layer1.0.bn1.bias': {'g_max': 0.0002245679497718811},\n",
       " 'layer1.0.conv2.weight': {'g_max': 0.00014124505105428398},\n",
       " 'layer1.0.bn2.weight': {'g_max': 0.0003498643054626882},\n",
       " 'layer1.0.bn2.bias': {'g_max': 0.00017340527847409248},\n",
       " 'layer1.1.conv1.weight': {'g_max': 0.0001015970265143551},\n",
       " 'layer1.1.bn1.weight': {'g_max': 0.00022922997595742345},\n",
       " 'layer1.1.bn1.bias': {'g_max': 0.0001417686726199463},\n",
       " 'layer1.1.conv2.weight': {'g_max': 0.00012050654186168686},\n",
       " 'layer1.1.bn2.weight': {'g_max': 0.0002052952186204493},\n",
       " 'layer1.1.bn2.bias': {'g_max': 0.00013652486086357385},\n",
       " 'layer2.0.conv1.weight': {'g_max': 0.00018517613352742046},\n",
       " 'layer2.0.bn1.weight': {'g_max': 0.0005470181349664927},\n",
       " 'layer2.0.bn1.bias': {'g_max': 0.00040069641545414925},\n",
       " 'layer2.0.conv2.weight': {'g_max': 0.00019175511260982603},\n",
       " 'layer2.0.bn2.weight': {'g_max': 0.00032926531275734305},\n",
       " 'layer2.0.bn2.bias': {'g_max': 0.00018179470498580486},\n",
       " 'layer2.0.downsample.0.weight': {'g_max': 0.00020652358944062144},\n",
       " 'layer2.0.downsample.1.weight': {'g_max': 0.0002385516418144107},\n",
       " 'layer2.0.downsample.1.bias': {'g_max': 0.00018179470498580486},\n",
       " 'layer2.1.conv1.weight': {'g_max': 0.0001458341721445322},\n",
       " 'layer2.1.bn1.weight': {'g_max': 0.0003351746127009392},\n",
       " 'layer2.1.bn1.bias': {'g_max': 0.00022595406335312873},\n",
       " 'layer2.1.conv2.weight': {'g_max': 0.0001527978020021692},\n",
       " 'layer2.1.bn2.weight': {'g_max': 0.0002524595765862614},\n",
       " 'layer2.1.bn2.bias': {'g_max': 0.00016100204084068537},\n",
       " 'layer3.0.conv1.weight': {'g_max': 0.00013189445598982275},\n",
       " 'layer3.0.bn1.weight': {'g_max': 0.00024121325986925513},\n",
       " 'layer3.0.bn1.bias': {'g_max': 0.00021201331401243806},\n",
       " 'layer3.0.conv2.weight': {'g_max': 8.812554005999118e-05},\n",
       " 'layer3.0.bn2.weight': {'g_max': 0.0002454965142533183},\n",
       " 'layer3.0.bn2.bias': {'g_max': 0.00019549574062693864},\n",
       " 'layer3.0.downsample.0.weight': {'g_max': 0.00012429372873157263},\n",
       " 'layer3.0.downsample.1.weight': {'g_max': 0.0002120352874044329},\n",
       " 'layer3.0.downsample.1.bias': {'g_max': 0.00019549574062693864},\n",
       " 'layer3.1.conv1.weight': {'g_max': 0.0002061131817754358},\n",
       " 'layer3.1.bn1.weight': {'g_max': 0.0003421514411456883},\n",
       " 'layer3.1.bn1.bias': {'g_max': 0.00019917418831028044},\n",
       " 'layer3.1.conv2.weight': {'g_max': 0.00017580944404471666},\n",
       " 'layer3.1.bn2.weight': {'g_max': 0.00024682932416908443},\n",
       " 'layer3.1.bn2.bias': {'g_max': 0.00013830221723765135},\n",
       " 'layer4.0.conv1.weight': {'g_max': 0.00011730357800843194},\n",
       " 'layer4.0.bn1.weight': {'g_max': 0.00019412014808040112},\n",
       " 'layer4.0.bn1.bias': {'g_max': 0.0003615112800616771},\n",
       " 'layer4.0.conv2.weight': {'g_max': 0.00013945155660621822},\n",
       " 'layer4.0.bn2.weight': {'g_max': 0.00013192041660659015},\n",
       " 'layer4.0.bn2.bias': {'g_max': 0.00014900197857059538},\n",
       " 'layer4.0.downsample.0.weight': {'g_max': 0.0001529893634142354},\n",
       " 'layer4.0.downsample.1.weight': {'g_max': 0.00017051752365659922},\n",
       " 'layer4.0.downsample.1.bias': {'g_max': 0.00014900197857059538},\n",
       " 'layer4.1.conv1.weight': {'g_max': 9.356007649330422e-05},\n",
       " 'layer4.1.bn1.weight': {'g_max': 0.0002685355138964951},\n",
       " 'layer4.1.bn1.bias': {'g_max': 0.00017844873946160078},\n",
       " 'layer4.1.conv2.weight': {'g_max': 8.699196769157425e-05},\n",
       " 'layer4.1.bn2.weight': {'g_max': 7.252029172377661e-05},\n",
       " 'layer4.1.bn2.bias': {'g_max': 0.00012191460700705647},\n",
       " 'fc.weight': {'g_max': 1.3103265762329102},\n",
       " 'fc.bias': {'g_max': 1.0}}"
      ]
     },
     "execution_count": 3,
     "metadata": {},
     "output_type": "execute_result"
    }
   ],
   "source": [
    "def max_grad(model):\n",
    "    \"\"\"Máximo valor de gradiente de cada parâmetro.\"\"\"\n",
    "\n",
    "    stats = {}\n",
    "    # model.named_parameters() retorna os nomes e respectivos parâmetros do\n",
    "    # modelo\n",
    "    for param_name, param in model.named_parameters():\n",
    "        grad = param.grad\n",
    "        g_max = grad.max()\n",
    "        stats[param_name] = {'g_max':g_max.item()}\n",
    "\n",
    "    return stats\n",
    "\n",
    "# Aplica o modelo\n",
    "scores = model(img)\n",
    "# Calcula os gradientes (em um treinamento real seria loss.backward())\n",
    "scores.sum().backward()\n",
    "\n",
    "max_grad(model)"
   ]
  },
  {
   "cell_type": "markdown",
   "metadata": {},
   "source": [
    "# Estatísticas dos parâmetros de um modelo\n",
    "\n",
    "1. Faça uma função que receba como entrada uma rede neural e retorne um dicionário no qual cada chave é o nome de um parâmetro do modelo e os respectivos valores são:\n",
    "    * O maior e menor valor do parâmetro;\n",
    "    * O maior e menor valor do gradiente do parâmetro;\n",
    "2. Faça uma função que receba o dicionário de 1 e retorne o menor e maior valor dentre todos os parâmetros e todos os gradientes (4 valores no total);\n",
    "2. Modifique o script de treinamento visto nas aulas para plotar além da loss e da acurácia, os menores e maiores valores retornados em 2. Crie um terceiro gráfico (além do gráfico da loss e acurácia), para mostrar os valores. Os valores devem ser plotados **durante o treinamento da rede**\n",
    "    "
   ]
  },
  {
   "cell_type": "markdown",
   "metadata": {},
   "source": [
    "### Resolução "
   ]
  },
  {
   "cell_type": "markdown",
   "metadata": {},
   "source": [
    "**1.** Função que recebe como entrada uma rede neural e retorna um dicionário contendo como chave o nome do parametro do modelo e o maior e menor valor dos parâmetros, bem como dos gradientes dos parêmetros."
   ]
  },
  {
   "cell_type": "code",
   "execution_count": 4,
   "metadata": {},
   "outputs": [],
   "source": [
    "import torch\n",
    "from torch import nn\n",
    "from torchvision import models\n",
    "import matplotlib.pyplot as plt\n",
    "import random\n",
    "import numpy as np"
   ]
  },
  {
   "cell_type": "code",
   "execution_count": 5,
   "metadata": {},
   "outputs": [],
   "source": [
    "seed = 42\n",
    "torch.manual_seed(seed)\n",
    "#np.random.seed(seed)\n",
    "\n",
    "# Criação de um modelo e cálculo dos gradientes como no notebook original\n",
    "img = torch.rand(1, 3, 224, 224)\n",
    "model = models.resnet18(weights=models.ResNet18_Weights.DEFAULT)"
   ]
  },
  {
   "cell_type": "code",
   "execution_count": 6,
   "metadata": {},
   "outputs": [],
   "source": [
    "def get_model_stats(model):\n",
    "    \"\"\"Retorna estatísticas dos parâmetros de um modelo neural.\n",
    "    \n",
    "    Para cada parâmetro, retorna o maior e menor valor do parâmetro\n",
    "    e o maior e menor valor do gradiente do parâmetro.\n",
    "    \"\"\"\n",
    "    stats = {}\n",
    "    for param_name, param in model.named_parameters():\n",
    "        # Valores do parâmetro\n",
    "        param_max = param.max().item()\n",
    "        param_min = param.min().item()\n",
    "        \n",
    "        # Valores do gradiente\n",
    "        if param.grad is not None:\n",
    "            grad_max = param.grad.max().item()\n",
    "            grad_min = param.grad.min().item()\n",
    "        else:\n",
    "            grad_max = None\n",
    "            grad_min = None\n",
    "        \n",
    "        stats[param_name] = {\n",
    "            'param_max': param_max,\n",
    "            'param_min': param_min,\n",
    "            'grad_max': grad_max,\n",
    "            'grad_min': grad_min\n",
    "        }\n",
    "    \n",
    "    return stats"
   ]
  },
  {
   "cell_type": "code",
   "execution_count": 7,
   "metadata": {},
   "outputs": [],
   "source": [
    "# Passa a imagem pelo modelo para calcular os scores\n",
    "scores = model(img)\n",
    "# Calcula os gradientes (em um treinamento real seria loss.backward())\n",
    "scores.sum().backward()\n",
    "\n",
    "# Obtém as estatísticas dos parâmetros\n",
    "stats = get_model_stats(model)\n",
    "\n",
    "# Exibe as estatísticas\n",
    "# for param, stat in stats.items():\n",
    "#     print(f\"{param}: {stat}\")\n",
    "# Exibe as estatísticas organizadas por linhas\n",
    "# for param, stat in stats.items():\n",
    "#     print(f\"{param}:\")\n",
    "#     print(f\"  param_max: {stat['param_max']}\")\n",
    "#     print(f\"  param_min: {stat['param_min']}\")\n",
    "#     print(f\"  grad_max: {stat['grad_max']}\")\n",
    "#     print(f\"  grad_min: {stat['grad_min']}\")\n",
    "#     print()  # Adiciona uma linha em branco entre cada conjunto de estatísticas"
   ]
  },
  {
   "cell_type": "markdown",
   "metadata": {},
   "source": [
    "**2.** Função que recebe o dicionário e retorna o valor máximo e mínimo dos parâmetros e gradientes dos parâmetros"
   ]
  },
  {
   "cell_type": "code",
   "execution_count": 8,
   "metadata": {},
   "outputs": [],
   "source": [
    "def get_overall_stats(stats):\n",
    "    \"\"\"Retorna o menor e maior valor dentre todos os parâmetros e gradientes.\n",
    "\n",
    "    Args:\n",
    "        stats (dict): Dicionário com estatísticas dos parâmetros e gradientes.\n",
    "\n",
    "    Returns:\n",
    "        dict: Dicionário com os menores e maiores valores.\n",
    "    \"\"\"\n",
    "    # Inicializa variáveis para armazenar os valores mínimos e máximos\n",
    "    overall_param_min = float('inf')\n",
    "    overall_param_max = float('-inf')\n",
    "    overall_grad_min = float('inf')\n",
    "    overall_grad_max = float('-inf')\n",
    "    \n",
    "    for _,values in stats.items():\n",
    "        # Atualiza os valores mínimos e máximos dos parâmetros\n",
    "        overall_param_min = min(overall_param_min, values['param_min'])\n",
    "        overall_param_max = max(overall_param_max, values['param_max'])\n",
    "        \n",
    "        # Atualiza os valores mínimos e máximos dos gradientes, se disponíveis\n",
    "        if values['grad_min'] is not None:\n",
    "            overall_grad_min = min(overall_grad_min, values['grad_min'])\n",
    "        if values['grad_max'] is not None:\n",
    "            overall_grad_max = max(overall_grad_max, values['grad_max'])\n",
    "    \n",
    "    return overall_param_min, overall_param_max, overall_grad_min, overall_grad_max\n",
    "    \n",
    "    \n",
    "def get_four_stats(model):\n",
    "    stats=get_model_stats(model)\n",
    "    return get_overall_stats(stats)"
   ]
  },
  {
   "cell_type": "markdown",
   "metadata": {},
   "source": [
    "### Análise das imagens aleatórias geradas."
   ]
  },
  {
   "cell_type": "code",
   "execution_count": 9,
   "metadata": {},
   "outputs": [],
   "source": [
    "#  overall_statseed = 42\n",
    "# torch.manual_seed(seed)\n",
    "# #np.random.seed(seed)\n",
    "\n",
    "# # Função para criar e plotar um tensor aleatório\n",
    "# def plot_random_tensor(batch_size, channels, height, width):\n",
    "#     # Cria um tensor aleatório\n",
    "#     x = torch.rand(batch_size, channels, height, width)\n",
    "    \n",
    "#     # Converte o tensor para um formato que o Matplotlib entende (numpy array)\n",
    "#     x_np = x.permute(0, 2, 3, 1).cpu().numpy()\n",
    "    \n",
    "#     # Plota as imagens\n",
    "#     _, axes = plt.subplots(1, batch_size, figsize=(15, 15))\n",
    "#     for i, ax in enumerate(axes):\n",
    "#         ax.imshow(x_np[i])\n",
    "#         ax.axis('off')\n",
    "#     plt.show()\n",
    "\n",
    "# # Configurações\n",
    "# batch_size = 4  # Número de imagens para gerar e plotar\n",
    "# channels = 3  # Número de canais (3 para imagens RGB)\n",
    "# height = 8  # Altura da imagem\n",
    "# width = 8  # Largura da imagem\n",
    "\n",
    "# # Plotar as imagens\n",
    "# #plot_random_tensor(batch_size, channels, height, width)\n",
    "\n"
   ]
  },
  {
   "cell_type": "markdown",
   "metadata": {},
   "source": [
    "**3.** "
   ]
  },
  {
   "cell_type": "code",
   "execution_count": 11,
   "metadata": {},
   "outputs": [
    {
     "data": {
      "image/png": "[encoded data removed]",
      "text/plain": [
       "<Figure size 900x300 with 3 Axes>"
      ]
     },
     "metadata": {},
     "output_type": "display_data"
    }
   ],
   "source": [
    "import train\n",
    "\n",
    "params = {\n",
    "    #'bs':64,\n",
    "    'bs':8,\n",
    "    'num_epochs':6,\n",
    "    'lr':0.01,\n",
    "    'weight_decay':1e-2,\n",
    "    'resize_size':16,  # Tamanho das imagens de treinamento\n",
    "    'seed':0,\n",
    "    'overall_stats':get_four_stats\n",
    "}\n",
    "model = models.resnet18()\n",
    "# Modifica a última camada do modelo para classificar em 2 classes\n",
    "model.fc = nn.Linear(model.fc.in_features, 2)\n",
    "ds_train, ds_valid, logger = train.train(model, **params)\n",
    "# Cada época demora em torno de 6.1 segundos em uma RTX3080 Ti"
   ]
  }
 ],
 "metadata": {
  "kernelspec": {
   "display_name": "vc2024",
   "language": "python",
   "name": "python3"
  },
  "language_info": {
   "codemirror_mode": {
    "name": "ipython",
    "version": 3
   },
   "file_extension": ".py",
   "mimetype": "text/x-python",
   "name": "python",
   "nbconvert_exporter": "python",
   "pygments_lexer": "ipython3",
   "version": "3.12.2"
  }
 },
 "nbformat": 4,
 "nbformat_minor": 2
}
