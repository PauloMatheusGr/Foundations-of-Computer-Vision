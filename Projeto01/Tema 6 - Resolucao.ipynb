{
 "cells": [
  {
   "cell_type": "markdown",
   "metadata": {},
   "source": [
    "# Estatísticas dos parâmetros de um modelo\n",
    "\n",
    "1. Faça uma função que receba como entrada uma rede neural e retorne um dicionário no qual cada chave é o nome de um parâmetro do modelo e os respectivos valores são:\n",
    "    * O maior e menor valor do parâmetro;\n",
    "    * O maior e menor valor do gradiente do parâmetro;\n",
    "2. Faça uma função que receba o dicionário de 1 e retorne o menor e maior valor dentre todos os parâmetros e todos os gradientes (4 valores no total);\n",
    "2. Modifique o script de treinamento visto nas aulas para plotar além da loss e da acurácia, os menores e maiores valores retornados em 2. Crie um terceiro gráfico (além do gráfico da loss e acurácia), para mostrar os valores. Os valores devem ser plotados **durante o treinamento da rede**\n",
    "    "
   ]
  },
  {
   "cell_type": "markdown",
   "metadata": {},
   "source": [
    "Exemplo"
   ]
  },
  {
   "cell_type": "code",
   "execution_count": 1,
   "metadata": {},
   "outputs": [],
   "source": [
    "import torch\n",
    "from torch import nn\n",
    "from torchvision import models\n",
    "\n",
    "# Imagem aleatória para ilustração\n",
    "img = torch.rand(1, 3, 224, 224)\n",
    "model = models.resnet18(weights=models.ResNet18_Weights.DEFAULT)"
   ]
  },
  {
   "cell_type": "markdown",
   "metadata": {},
   "source": [
    "Exemplo"
   ]
  },
  {
   "cell_type": "code",
   "execution_count": 30,
   "metadata": {},
   "outputs": [],
   "source": [
    "def max_grad(model):\n",
    "    \"\"\"Máximo valor de gradiente de cada parâmetro.\"\"\"\n",
    "\n",
    "    stats = {}\n",
    "    # model.named_parameters() retorna os nomes e respectivos parâmetros do\n",
    "    # modelo\n",
    "    for param_name, param in model.named_parameters():\n",
    "        grad = param.grad\n",
    "        g_max = grad.max()\n",
    "        stats[param_name] = {'g_max':g_max.item()}\n",
    "\n",
    "    return stats\n",
    "\n",
    "# Aplica o modelo\n",
    "scores = model(img)\n",
    "# Calcula os gradientes (em um treinamento real seria loss.backward())\n",
    "scores.sum().backward()\n",
    "\n",
    "#max_grad(model)"
   ]
  },
  {
   "cell_type": "markdown",
   "metadata": {},
   "source": [
    "### Resolução "
   ]
  },
  {
   "cell_type": "markdown",
   "metadata": {},
   "source": [
    "**1.** Função que recebe como entrada uma rede neural e retorna um dicionário contendo como chave o nome do parametro do modelo e o maior e menor valor dos parâmetros, bem como dos gradientes dos parêmetros."
   ]
  },
  {
   "cell_type": "code",
   "execution_count": 14,
   "metadata": {},
   "outputs": [],
   "source": [
    "import json\n",
    "\n",
    "def param_stats(model):\n",
    "    \"\"\"Retorna um dicionário com estatísticas de cada parâmetro do modelo.\"\"\"\n",
    "\n",
    "    stats = {}\n",
    "    for param_name, param in model.named_parameters():\n",
    "        param_data = param.data\n",
    "        grad = param.grad\n",
    "\n",
    "        stats[param_name] = {\n",
    "            'param_max': param_data.max().item(),\n",
    "            'param_min': param_data.min().item(),\n",
    "            'grad_max': grad.max().item() if grad is not None else None,\n",
    "            'grad_min': grad.min().item() if grad is not None else None\n",
    "        }\n",
    "    # Assim as informacoes ficam na mesma linha, ruim pra ler\n",
    "    #return stats \n",
    "    \n",
    "    # Organiza as informacoes do dicionario\n",
    "    return json.dumps(stats, indent=4)\n"
   ]
  },
  {
   "cell_type": "code",
   "execution_count": 15,
   "metadata": {},
   "outputs": [
    {
     "name": "stdout",
     "output_type": "stream",
     "text": [
      "{\n",
      "    \"fc1.weight\": {\n",
      "        \"param_max\": 0.03571409359574318,\n",
      "        \"param_min\": -0.03571414574980736,\n",
      "        \"grad_max\": 1.1916474103927612,\n",
      "        \"grad_min\": -1.1999832391738892\n",
      "    },\n",
      "    \"fc1.bias\": {\n",
      "        \"param_max\": 0.03552022948861122,\n",
      "        \"param_min\": -0.03570165857672691,\n",
      "        \"grad_max\": 0.35915958881378174,\n",
      "        \"grad_min\": -0.35666465759277344\n",
      "    },\n",
      "    \"fc2.weight\": {\n",
      "        \"param_max\": 0.08835775405168533,\n",
      "        \"param_min\": -0.08829647302627563,\n",
      "        \"grad_max\": 0.9300462007522583,\n",
      "        \"grad_min\": 0.0\n",
      "    },\n",
      "    \"fc2.bias\": {\n",
      "        \"param_max\": 0.08279874175786972,\n",
      "        \"param_min\": -0.06388561427593231,\n",
      "        \"grad_max\": 1.0,\n",
      "        \"grad_min\": 1.0\n",
      "    }\n",
      "}\n"
     ]
    }
   ],
   "source": [
    "import torch\n",
    "import torch.nn as nn\n",
    "\n",
    "# Definindo um exemplo de modelo de rede neural\n",
    "class SimpleNN(nn.Module):\n",
    "    def __init__(self):\n",
    "        super(SimpleNN, self).__init__()\n",
    "        self.fc1 = nn.Linear(28*28, 128)\n",
    "        self.fc2 = nn.Linear(128, 10)\n",
    "\n",
    "    def forward(self, x):\n",
    "        x = torch.flatten(x, 1)\n",
    "        x = torch.relu(self.fc1(x))\n",
    "        x = self.fc2(x)\n",
    "        return x\n",
    "\n",
    "# Criando uma instância do modelo\n",
    "model = SimpleNN()\n",
    "\n",
    "# Exemplo de input\n",
    "img = torch.randn(1, 1, 28, 28)\n",
    "\n",
    "# Passando o input pelo modelo para gerar os scores\n",
    "scores = model(img)\n",
    "\n",
    "# Calculando os gradientes (em um treinamento real seria loss.backward())\n",
    "scores.sum().backward()\n",
    "\n",
    "# Obtendo as estatísticas dos parâmetros e gradientes\n",
    "stats = param_stats(model)\n",
    "print(stats)"
   ]
  },
  {
   "cell_type": "markdown",
   "metadata": {},
   "source": [
    "**2.** Função que recebe o dicionário e retorna o valor máximo e mínimo dos parâmetros e gradientes dos parâmetros"
   ]
  },
  {
   "cell_type": "code",
   "execution_count": 16,
   "metadata": {},
   "outputs": [],
   "source": [
    "def get_global_stats(stats):\n",
    "    \"\"\"Retorna o menor e maior valor dentre todos os parâmetros e gradientes.\"\"\"\n",
    "    param_max = float('-inf')\n",
    "    param_min = float('inf')\n",
    "    grad_max = float('-inf')\n",
    "    grad_min = float('inf')\n",
    "\n",
    "    for param_name, param_stats in stats.items():\n",
    "        param_max = max(param_max, param_stats['param_max'])\n",
    "        param_min = min(param_min, param_stats['param_min'])\n",
    "        if param_stats['grad_max'] is not None:\n",
    "            grad_max = max(grad_max, param_stats['grad_max'])\n",
    "        if param_stats['grad_min'] is not None:\n",
    "            grad_min = min(grad_min, param_stats['grad_min'])\n",
    "\n",
    "    return {\n",
    "        'param_max': param_max,\n",
    "        'param_min': param_min,\n",
    "        'grad_max': grad_max,\n",
    "        'grad_min': grad_min\n",
    "    }\n"
   ]
  },
  {
   "cell_type": "code",
   "execution_count": 17,
   "metadata": {},
   "outputs": [
    {
     "ename": "AttributeError",
     "evalue": "'str' object has no attribute 'items'",
     "output_type": "error",
     "traceback": [
      "\u001b[0;31m---------------------------------------------------------------------------\u001b[0m",
      "\u001b[0;31mAttributeError\u001b[0m                            Traceback (most recent call last)",
      "Cell \u001b[0;32mIn[17], line 1\u001b[0m\n\u001b[0;32m----> 1\u001b[0m global_stats \u001b[38;5;241m=\u001b[39m \u001b[43mget_global_stats\u001b[49m\u001b[43m(\u001b[49m\u001b[43mstats\u001b[49m\u001b[43m)\u001b[49m\n\u001b[1;32m      2\u001b[0m \u001b[38;5;28;01mfor\u001b[39;00m key, value \u001b[38;5;129;01min\u001b[39;00m global_stats\u001b[38;5;241m.\u001b[39mitems():\n\u001b[1;32m      3\u001b[0m     \u001b[38;5;28mprint\u001b[39m(\u001b[38;5;124mf\u001b[39m\u001b[38;5;124m\"\u001b[39m\u001b[38;5;132;01m{\u001b[39;00mkey\u001b[38;5;132;01m}\u001b[39;00m\u001b[38;5;124m: \u001b[39m\u001b[38;5;132;01m{\u001b[39;00mvalue\u001b[38;5;132;01m}\u001b[39;00m\u001b[38;5;124m\"\u001b[39m)\n",
      "Cell \u001b[0;32mIn[16], line 8\u001b[0m, in \u001b[0;36mget_global_stats\u001b[0;34m(stats)\u001b[0m\n\u001b[1;32m      5\u001b[0m grad_max \u001b[38;5;241m=\u001b[39m \u001b[38;5;28mfloat\u001b[39m(\u001b[38;5;124m'\u001b[39m\u001b[38;5;124m-inf\u001b[39m\u001b[38;5;124m'\u001b[39m)\n\u001b[1;32m      6\u001b[0m grad_min \u001b[38;5;241m=\u001b[39m \u001b[38;5;28mfloat\u001b[39m(\u001b[38;5;124m'\u001b[39m\u001b[38;5;124minf\u001b[39m\u001b[38;5;124m'\u001b[39m)\n\u001b[0;32m----> 8\u001b[0m \u001b[38;5;28;01mfor\u001b[39;00m param_name, param_stats \u001b[38;5;129;01min\u001b[39;00m \u001b[43mstats\u001b[49m\u001b[38;5;241;43m.\u001b[39;49m\u001b[43mitems\u001b[49m():\n\u001b[1;32m      9\u001b[0m     param_max \u001b[38;5;241m=\u001b[39m \u001b[38;5;28mmax\u001b[39m(param_max, param_stats[\u001b[38;5;124m'\u001b[39m\u001b[38;5;124mparam_max\u001b[39m\u001b[38;5;124m'\u001b[39m])\n\u001b[1;32m     10\u001b[0m     param_min \u001b[38;5;241m=\u001b[39m \u001b[38;5;28mmin\u001b[39m(param_min, param_stats[\u001b[38;5;124m'\u001b[39m\u001b[38;5;124mparam_min\u001b[39m\u001b[38;5;124m'\u001b[39m])\n",
      "\u001b[0;31mAttributeError\u001b[0m: 'str' object has no attribute 'items'"
     ]
    }
   ],
   "source": [
    "global_stats = get_global_stats(stats)\n",
    "for key, value in global_stats.items():\n",
    "    print(f\"{key}: {value}\")\n"
   ]
  },
  {
   "cell_type": "markdown",
   "metadata": {},
   "source": [
    "**3.** "
   ]
  },
  {
   "cell_type": "code",
   "execution_count": null,
   "metadata": {},
   "outputs": [],
   "source": []
  }
 ],
 "metadata": {
  "kernelspec": {
   "display_name": "vc2024",
   "language": "python",
   "name": "python3"
  },
  "language_info": {
   "codemirror_mode": {
    "name": "ipython",
    "version": 3
   },
   "file_extension": ".py",
   "mimetype": "text/x-python",
   "name": "python",
   "nbconvert_exporter": "python",
   "pygments_lexer": "ipython3",
   "version": "3.12.2"
  }
 },
 "nbformat": 4,
 "nbformat_minor": 2
}
