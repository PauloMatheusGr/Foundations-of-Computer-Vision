{
 "cells": [
  {
   "cell_type": "markdown",
   "metadata": {},
   "source": [
    "# Estatísticas dos parâmetros de um modelo\n",
    "\n",
    "1. Faça uma função que receba como entrada uma rede neural e retorne um dicionário no qual cada chave é o nome de um parâmetro do modelo e os respectivos valores são:\n",
    "    * O maior e menor valor do parâmetro;\n",
    "    * O maior e menor valor do gradiente do parâmetro;\n",
    "2. Faça uma função que receba o dicionário de 1 e retorne o menor e maior valor dentre todos os parâmetros e todos os gradientes (4 valores no total);\n",
    "2. Modifique o script de treinamento visto nas aulas para plotar além da loss e da acurácia, os menores e maiores valores retornados em 2. Crie um terceiro gráfico (além do gráfico da loss e acurácia), para mostrar os valores. Os valores devem ser plotados **durante o treinamento da rede**\n",
    "    "
   ]
  },
  {
   "cell_type": "markdown",
   "metadata": {},
   "source": [
    "Exemplo"
   ]
  },
  {
   "cell_type": "code",
   "execution_count": 18,
   "metadata": {},
   "outputs": [],
   "source": [
    "import torch\n",
    "from torch import nn\n",
    "from torchvision import models\n",
    "\n",
    "# Imagem aleatória para ilustração\n",
    "img = torch.rand(1, 3, 224, 224)\n",
    "model = models.resnet18(weights=models.ResNet18_Weights.DEFAULT)"
   ]
  },
  {
   "cell_type": "code",
   "execution_count": 30,
   "metadata": {},
   "outputs": [],
   "source": [
    "def max_grad(model):\n",
    "    \"\"\"Máximo valor de gradiente de cada parâmetro.\"\"\"\n",
    "\n",
    "    stats = {}\n",
    "    # model.named_parameters() retorna os nomes e respectivos parâmetros do\n",
    "    # modelo\n",
    "    for param_name, param in model.named_parameters():\n",
    "        grad = param.grad\n",
    "        g_max = grad.max()\n",
    "        stats[param_name] = {'g_max':g_max.item()}\n",
    "\n",
    "    return stats\n",
    "\n",
    "# Aplica o modelo\n",
    "scores = model(img)\n",
    "# Calcula os gradientes (em um treinamento real seria loss.backward())\n",
    "scores.sum().backward()\n",
    "\n",
    "#max_grad(model)"
   ]
  },
  {
   "cell_type": "markdown",
   "metadata": {},
   "source": [
    "### 1. Função que recebe como entrada uma rede neural e retorna um dicionário no qual cada chave é o nome de um parâmetro do modelo e os respectivos valores são:\n",
    "* O maior e menor valor do parâmetro;\n",
    "* O maior e menor valor do gradiente do parâmetro.\n"
   ]
  },
  {
   "cell_type": "code",
   "execution_count": 1,
   "metadata": {},
   "outputs": [],
   "source": [
    "import matplotlib.pyplot as plt\n",
    "import torch\n",
    "from torch import nn\n",
    "from torch.utils.data import DataLoader, TensorDataset\n",
    "import torch.nn.functional as F\n",
    "from torchvision import models\n",
    "import train"
   ]
  },
  {
   "cell_type": "code",
   "execution_count": 4,
   "metadata": {},
   "outputs": [],
   "source": [
    "# Define a semente para garantir a reprodutibilidade\n",
    "torch.manual_seed(42)\n",
    "# Imagem aleatória para ilustração\n",
    "img = torch.rand(1, 3, 224, 224)\n",
    "model = models.resnet18(weights=models.ResNet18_Weights.DEFAULT)"
   ]
  },
  {
   "cell_type": "code",
   "execution_count": 32,
   "metadata": {},
   "outputs": [
    {
     "data": {
      "image/png": "[encoded data removed]",
      "text/plain": [
       "<Figure size 640x480 with 1 Axes>"
      ]
     },
     "metadata": {},
     "output_type": "display_data"
    },
    {
     "data": {
      "image/png": "[encoded data removed]",
      "text/plain": [
       "<Figure size 640x480 with 1 Axes>"
      ]
     },
     "metadata": {},
     "output_type": "display_data"
    },
    {
     "data": {
      "image/png": "[encoded data removed]",
      "text/plain": [
       "<Figure size 640x480 with 1 Axes>"
      ]
     },
     "metadata": {},
     "output_type": "display_data"
    }
   ],
   "source": [
    "# Imagem aleatória para ilustração\n",
    "img = torch.rand(1, 3, 8, 8)\n",
    "img_bw = torch.rand(1, 1, 8, 8)\n",
    "\n",
    "model = models.resnet18(weights=models.ResNet18_Weights.DEFAULT)\n",
    "\n",
    "# Converter a imagem de tensor PyTorch para um formato compatível com matplotlib\n",
    "# Remover a dimensão do batch\n",
    "img_np = img.squeeze(0)\n",
    "img_bw_np = img_bw.squeeze(0)\n",
    "\n",
    "# Converter de formato [C, H, W] para [H, W, C]\n",
    "img_np = img_np.permute(1, 2, 0).numpy()\n",
    "img_bw_np = img_bw_np.permute(1, 2, 0).numpy()\n",
    "\n",
    "# Plotar a imagem\n",
    "plt.imshow(img_np)\n",
    "plt.title(\"Imagem Aleatória 3 canais\")\n",
    "plt.axis('off')  # Remove os eixos para uma visualização mais limpa\n",
    "plt.show()\n",
    "\n",
    "# Plotar a imagem\n",
    "plt.imshow(img_bw_np)\n",
    "plt.title(\"Imagem Aleatória 1 canal\")\n",
    "plt.axis('off')  # Remove os eixos para uma visualização mais limpa\n",
    "plt.show()\n",
    "\n",
    "# Plotar a imagem\n",
    "# plt.imshow(img_bw_np)\n",
    "plt.imshow(img_bw_np, cmap='gray')\n",
    "plt.title(\"Imagem Aleatória 1 canal, cmap='gray'\")\n",
    "plt.axis('off')  # Remove os eixos para uma visualização mais limpa\n",
    "plt.show()"
   ]
  },
  {
   "cell_type": "code",
   "execution_count": 9,
   "metadata": {},
   "outputs": [],
   "source": [
    "def get_model_stats(model):\n",
    "    \"\"\"Retorna estatísticas dos parâmetros de um modelo neural.\n",
    "    \n",
    "    Para cada parâmetro, retorna o maior e menor valor do parâmetro\n",
    "    e o maior e menor valor do gradiente do parâmetro.\n",
    "    \"\"\"\n",
    "    stats = {}\n",
    "    for param_name, param in model.named_parameters():\n",
    "        # Valores do parâmetro\n",
    "        param_max = param.max().item()\n",
    "        param_min = param.min().item()\n",
    "        \n",
    "        # Valores do gradiente\n",
    "        if param.grad is not None:\n",
    "            grad_max = param.grad.max().item()\n",
    "            grad_min = param.grad.min().item()\n",
    "        else:\n",
    "            grad_max = None\n",
    "            grad_min = None\n",
    "        \n",
    "        stats[param_name] = {\n",
    "            'param_max': param_max,\n",
    "            'param_min': param_min,\n",
    "            'grad_max': grad_max,\n",
    "            'grad_min': grad_min\n",
    "        }\n",
    "    \n",
    "    return stats\n",
    "#get_model_stats(model)"
   ]
  },
  {
   "cell_type": "markdown",
   "metadata": {},
   "source": [
    "### 1.1. Utilização da função criada\n",
    "\n",
    "\n"
   ]
  },
  {
   "cell_type": "code",
   "execution_count": 10,
   "metadata": {},
   "outputs": [],
   "source": [
    "# # Criação de um modelo e cálculo dos gradientes como no notebook original\n",
    "# img = torch.rand(1, 3, 224, 224)\n",
    "# model = models.resnet18(weights=models.ResNet18_Weights.DEFAULT)\n",
    "\n",
    "# Passa a imagem pelo modelo para calcular os scores\n",
    "scores = model(img)\n",
    "# Calcula os gradientes (em um treinamento real seria loss.backward())\n",
    "scores.sum().backward()\n",
    "\n",
    "# Obtém as estatísticas dos parâmetros\n",
    "stats = get_model_stats(model)\n",
    "\n",
    "# Exibe as estatísticas\n",
    "# for param, stat in stats.items():\n",
    "#     print(f\"{param}: {stat}\")"
   ]
  },
  {
   "cell_type": "markdown",
   "metadata": {},
   "source": [
    "### 2. Função que recebe o dicionário da função 1. e retorna o menor e maior valor dentre todos os parâmetros e todos os gradientes, sendo 4 valores no total."
   ]
  },
  {
   "cell_type": "code",
   "execution_count": 11,
   "metadata": {},
   "outputs": [],
   "source": [
    "def get_overall_stats(stats):\n",
    "    \"\"\"Retorna o menor e maior valor dentre todos os parâmetros e gradientes.\n",
    "\n",
    "    Args:\n",
    "        stats (dict): Dicionário com estatísticas dos parâmetros e gradientes.\n",
    "\n",
    "    Returns:\n",
    "        dict: Dicionário com os menores e maiores valores.\n",
    "    \"\"\"\n",
    "    # Inicializa variáveis para armazenar os valores mínimos e máximos\n",
    "    overall_param_min = float('inf')\n",
    "    overall_param_max = float('-inf')\n",
    "    overall_grad_min = float('inf')\n",
    "    overall_grad_max = float('-inf')\n",
    "    \n",
    "    for param, values in stats.items():\n",
    "        # Atualiza os valores mínimos e máximos dos parâmetros\n",
    "        overall_param_min = min(overall_param_min, values['param_min'])\n",
    "        overall_param_max = max(overall_param_max, values['param_max'])\n",
    "        \n",
    "        # Atualiza os valores mínimos e máximos dos gradientes, se disponíveis\n",
    "        if values['grad_min'] is not None:\n",
    "            overall_grad_min = min(overall_grad_min, values['grad_min'])\n",
    "        if values['grad_max'] is not None:\n",
    "            overall_grad_max = max(overall_grad_max, values['grad_max'])\n",
    "    \n",
    "    return {\n",
    "        'overall_param_min': overall_param_min,\n",
    "        'overall_param_max': overall_param_max,\n",
    "        'overall_grad_min': overall_grad_min,\n",
    "        'overall_grad_max': overall_grad_max\n",
    "    }\n"
   ]
  },
  {
   "cell_type": "markdown",
   "metadata": {},
   "source": [
    "### 2.1. Utilização da função\n",
    "* Criação de um modelo e cálculo dos gradientes como no notebook original\n",
    "\n"
   ]
  },
  {
   "cell_type": "code",
   "execution_count": 12,
   "metadata": {},
   "outputs": [
    {
     "name": "stdout",
     "output_type": "stream",
     "text": [
      "\n",
      "Estatísticas Gerais:\n",
      "Menor valor dos parâmetros: -0.8433799147605896\n",
      "Maior valor dos parâmetros: 2.407539129257202\n",
      "Menor valor dos gradientes: -0.0016355920815840364\n",
      "Maior valor dos gradientes: 2.9890928268432617\n"
     ]
    }
   ],
   "source": [
    "# Passa a imagem pelo modelo para calcular os scores\n",
    "scores = model(img)\n",
    "# Calcula os gradientes (em um treinamento real seria loss.backward())\n",
    "scores.sum().backward()\n",
    "\n",
    "# Obtém as estatísticas dos parâmetros\n",
    "stats = get_model_stats(model)\n",
    "\n",
    "# Exibe as estatísticas dos parâmetros individuais\n",
    "#for param, stat in stats.items():\n",
    "#    print(f\"{param}: {stat}\")\n",
    "\n",
    "# Obtém as estatísticas gerais\n",
    "overall_stats = get_overall_stats(stats)\n",
    "\n",
    "# Exibe as estatísticas gerais\n",
    "print(\"\\nEstatísticas Gerais:\")\n",
    "print(f\"Menor valor dos parâmetros: {overall_stats['overall_param_min']}\")\n",
    "print(f\"Maior valor dos parâmetros: {overall_stats['overall_param_max']}\")\n",
    "print(f\"Menor valor dos gradientes: {overall_stats['overall_grad_min']}\")\n",
    "print(f\"Maior valor dos gradientes: {overall_stats['overall_grad_max']}\")"
   ]
  },
  {
   "cell_type": "markdown",
   "metadata": {},
   "source": [
    "### 3. Modifique o script de treinamento visto nas aulas para plotar além da loss e da acurácia, os menores e maiores valores retornados em 2. Crie um terceiro gráfico (além do gráfico da loss e acurácia), para mostrar os valores. Os valores devem ser plotados **durante o treinamento da rede**"
   ]
  },
  {
   "cell_type": "code",
   "execution_count": 34,
   "metadata": {},
   "outputs": [
    {
     "data": {
      "image/png": "[encoded data removed]",
      "text/plain": [
       "<Figure size 1500x500 with 3 Axes>"
      ]
     },
     "metadata": {},
     "output_type": "display_data"
    }
   ],
   "source": [
    "from IPython.display import clear_output\n",
    "\n",
    "torch.manual_seed(42)\n",
    "# Gerar dados aleatórios\n",
    "img = torch.rand(100, 3, 224, 224)\n",
    "targets = torch.randint(0, 2, (100,))  # 100 rótulos binários aleatórios\n",
    "\n",
    "# Dataset e DataLoader\n",
    "dataset = TensorDataset(img, targets)\n",
    "dataloader = DataLoader(dataset, batch_size=10, shuffle=True)\n",
    "\n",
    "# Rede Neural Simples\n",
    "class SimpleCNN(nn.Module):\n",
    "    def __init__(self):\n",
    "        super(SimpleCNN, self).__init__()\n",
    "        self.conv1 = nn.Conv2d(in_channels=3, out_channels=16, kernel_size=3, stride=1, padding=1)\n",
    "        self.fc1 = nn.Linear(16 * 224 * 224, 2)  # assuming output is 2 classes\n",
    "\n",
    "    def forward(self, x):\n",
    "        x = F.relu(self.conv1(x))\n",
    "        x = x.view(x.size(0), -1)\n",
    "        x = self.fc1(x)\n",
    "        return x\n",
    "\n",
    "model = SimpleCNN()\n",
    "\n",
    "def train(model, dataloader, num_epochs, lr):\n",
    "    loss_func = nn.CrossEntropyLoss()\n",
    "    optim = torch.optim.SGD(model.parameters(), lr=lr)\n",
    "    \n",
    "    losses = []\n",
    "    accuracies = []\n",
    "    param_min_values = []\n",
    "    param_max_values = []\n",
    "    grad_min_values = []\n",
    "    grad_max_values = []\n",
    "    \n",
    "    for epoch in range(num_epochs):\n",
    "        epoch_loss = 0\n",
    "        correct = 0\n",
    "        total = 0\n",
    "        \n",
    "        for inputs, targets in dataloader:\n",
    "            optim.zero_grad()\n",
    "            scores = model(inputs)\n",
    "            loss = loss_func(scores, targets)\n",
    "            loss.backward()\n",
    "            optim.step()\n",
    "            \n",
    "            # Accumulate epoch statistics\n",
    "            epoch_loss += loss.item()\n",
    "            _, predicted = scores.max(1)\n",
    "            total += targets.size(0)\n",
    "            correct += predicted.eq(targets).sum().item()\n",
    "        \n",
    "        # Calculate accuracy for the epoch\n",
    "        accuracy = 100. * correct / total\n",
    "        losses.append(epoch_loss / len(dataloader))\n",
    "        accuracies.append(accuracy)\n",
    "        \n",
    "        # Get overall stats\n",
    "        stats = get_model_stats(model)\n",
    "        overall_stats = get_overall_stats(stats)\n",
    "        \n",
    "        param_min_values.append(overall_stats['overall_param_min'])\n",
    "        param_max_values.append(overall_stats['overall_param_max'])\n",
    "        grad_min_values.append(overall_stats['overall_grad_min'])\n",
    "        grad_max_values.append(overall_stats['overall_grad_max'])\n",
    "        \n",
    "        plot_training_metrics(losses, accuracies, param_min_values, param_max_values, grad_min_values, grad_max_values)\n",
    "\n",
    "        clear_output(wait=True)\n",
    "        \n",
    "    return losses, accuracies, param_min_values, param_max_values, grad_min_values, grad_max_values\n",
    "        \n",
    "# Inicialização do modelo\n",
    "model = SimpleCNN()\n",
    "\n",
    "# Treinamento do modelo\n",
    "num_epochs = 10\n",
    "learning_rate = 0.01\n",
    "losses, accuracies, param_min_values, param_max_values, grad_min_values, grad_max_values = train(model, dataloader, num_epochs, learning_rate)\n",
    "\n",
    "\n"
   ]
  },
  {
   "cell_type": "code",
   "execution_count": 32,
   "metadata": {},
   "outputs": [],
   "source": [
    "# Funcao para plotar\n",
    "\n",
    "def plot_training_metrics(losses, accuracies, param_min_values, param_max_values, grad_min_values, grad_max_values):\n",
    "    \"\"\"\n",
    "    Plota os gráficos de métricas de treinamento: perda, acurácia, valores de parâmetros e gradientes.\n",
    "\n",
    "    Args:\n",
    "    - losses (list): Lista de perdas ao longo das épocas.\n",
    "    - accuracies (list): Lista de acurácias ao longo das épocas.\n",
    "    - param_min_values (list): Lista de valores mínimos dos parâmetros ao longo das épocas.\n",
    "    - param_max_values (list): Lista de valores máximos dos parâmetros ao longo das épocas.\n",
    "    - grad_min_values (list): Lista de valores mínimos dos gradientes ao longo das épocas.\n",
    "    - grad_max_values (list): Lista de valores máximos dos gradientes ao longo das épocas.\n",
    "    \"\"\"\n",
    "    plt.figure(figsize=(15, 5))\n",
    "\n",
    "    # Plot de Perda\n",
    "    plt.subplot(1, 3, 1)\n",
    "    plt.plot(losses, label='Loss')\n",
    "    plt.xlabel('Epoch')\n",
    "    plt.ylabel('Loss')\n",
    "    plt.title('Loss during training')\n",
    "    plt.legend()\n",
    "\n",
    "    # Plot de Acurácia\n",
    "    plt.subplot(1, 3, 2)\n",
    "    plt.plot(accuracies, label='Accuracy', color='orange')\n",
    "    plt.xlabel('Epoch')\n",
    "    plt.ylabel('Accuracy')\n",
    "    plt.title('Accuracy during training')\n",
    "    plt.legend()\n",
    "\n",
    "    # Plot de Valores de Parâmetros e Gradientes\n",
    "    plt.subplot(1, 3, 3)\n",
    "    plt.plot(param_min_values, label='Param Min', color='blue')\n",
    "    plt.plot(param_max_values, label='Param Max', color='cyan')\n",
    "    plt.plot(grad_min_values, label='Grad Min', color='red')\n",
    "    plt.plot(grad_max_values, label='Grad Max', color='magenta')\n",
    "    plt.xlabel('Epoch')\n",
    "    plt.ylabel('Value')\n",
    "    plt.title('Param and Grad Values during training')\n",
    "    plt.legend()\n",
    "\n",
    "    plt.tight_layout()\n",
    "    plt.show()\n",
    "\n",
    "    "
   ]
  },
  {
   "cell_type": "markdown",
   "metadata": {},
   "source": [
    "### Teste\n"
   ]
  },
  {
   "cell_type": "code",
   "execution_count": 36,
   "metadata": {},
   "outputs": [
    {
     "ename": "AttributeError",
     "evalue": "module 'train' has no attribute 'train'",
     "output_type": "error",
     "traceback": [
      "\u001b[0;31m---------------------------------------------------------------------------\u001b[0m",
      "\u001b[0;31mAttributeError\u001b[0m                            Traceback (most recent call last)",
      "Cell \u001b[0;32mIn[36], line 78\u001b[0m\n\u001b[1;32m     75\u001b[0m lr \u001b[38;5;241m=\u001b[39m \u001b[38;5;241m0.1\u001b[39m\n\u001b[1;32m     76\u001b[0m weight_decay \u001b[38;5;241m=\u001b[39m \u001b[38;5;241m0.\u001b[39m\n\u001b[0;32m---> 78\u001b[0m logger \u001b[38;5;241m=\u001b[39m \u001b[43mtrain\u001b[49m\u001b[38;5;241;43m.\u001b[39;49m\u001b[43mtrain\u001b[49m(model, ds_train, ds_valid, bs\u001b[38;5;241m=\u001b[39mbs, num_epochs\u001b[38;5;241m=\u001b[39mnum_epochs, lr\u001b[38;5;241m=\u001b[39mlr, \n\u001b[1;32m     79\u001b[0m                      weight_decay\u001b[38;5;241m=\u001b[39mweight_decay)\n\u001b[1;32m     80\u001b[0m train\u001b[38;5;241m.\u001b[39mshow_log(logger)\n\u001b[1;32m     82\u001b[0m \u001b[38;5;66;03m# Plotar as métricas usando o logger\u001b[39;00m\n",
      "\u001b[0;31mAttributeError\u001b[0m: module 'train' has no attribute 'train'"
     ]
    }
   ],
   "source": [
    "import torch\n",
    "import train\n",
    "import matplotlib.pyplot as plt\n",
    "\n",
    "# Exemplo fictício de uma classe de modelo\n",
    "class Model(torch.nn.Module):\n",
    "    def __init__(self):\n",
    "        super(Model, self).__init__()\n",
    "        self.fc = torch.nn.Linear(10, 1)\n",
    "\n",
    "    def forward(self, x):\n",
    "        return self.fc(x)\n",
    "\n",
    "def plot_training_metrics_from_logger(logger):\n",
    "    \"\"\"\n",
    "    Plota gráficos de métricas de treinamento usando o logger do pacote 'train'.\n",
    "\n",
    "    Args:\n",
    "    - logger (dict): Dicionário contendo os logs do treinamento.\n",
    "    \"\"\"\n",
    "    epochs = range(len(logger['train_loss']))\n",
    "\n",
    "    # Extraindo as métricas\n",
    "    train_losses = logger['train_loss']\n",
    "    valid_losses = logger['valid_loss']\n",
    "    train_accuracies = logger.get('train_accuracy', [])\n",
    "    valid_accuracies = logger.get('valid_accuracy', [])\n",
    "    param_min_values = logger.get('param_min', [])\n",
    "    param_max_values = logger.get('param_max', [])\n",
    "    grad_min_values = logger.get('grad_min', [])\n",
    "    grad_max_values = logger.get('grad_max', [])\n",
    "\n",
    "    plt.figure(figsize=(15, 5))\n",
    "\n",
    "    # Plot de Perda\n",
    "    plt.subplot(1, 3, 1)\n",
    "    plt.plot(epochs, train_losses, label='Train Loss')\n",
    "    plt.plot(epochs, valid_losses, label='Validation Loss')\n",
    "    plt.xlabel('Epoch')\n",
    "    plt.ylabel('Loss')\n",
    "    plt.title('Loss during training')\n",
    "    plt.legend()\n",
    "\n",
    "    # Plot de Acurácia\n",
    "    plt.subplot(1, 3, 2)\n",
    "    if train_accuracies and valid_accuracies:\n",
    "        plt.plot(epochs, train_accuracies, label='Train Accuracy', color='orange')\n",
    "        plt.plot(epochs, valid_accuracies, label='Validation Accuracy', color='green')\n",
    "    plt.xlabel('Epoch')\n",
    "    plt.ylabel('Accuracy')\n",
    "    plt.title('Accuracy during training')\n",
    "    plt.legend()\n",
    "\n",
    "    # Plot de Valores de Parâmetros e Gradientes\n",
    "    plt.subplot(1, 3, 3)\n",
    "    if param_min_values and param_max_values and grad_min_values and grad_max_values:\n",
    "        plt.plot(epochs, param_min_values, label='Param Min', color='blue')\n",
    "        plt.plot(epochs, param_max_values, label='Param Max', color='cyan')\n",
    "        plt.plot(epochs, grad_min_values, label='Grad Min', color='red')\n",
    "        plt.plot(epochs, grad_max_values, label='Grad Max', color='magenta')\n",
    "    plt.xlabel('Epoch')\n",
    "    plt.ylabel('Value')\n",
    "    plt.title('Param and Grad Values during training')\n",
    "    plt.legend()\n",
    "\n",
    "    plt.tight_layout()\n",
    "    plt.show()\n",
    "    plt.clf()  # Limpar a figura após a exibição\n",
    "\n",
    "# Exemplo de uso\n",
    "torch.random.manual_seed(0)\n",
    "model = Model()\n",
    "bs = 10\n",
    "num_epochs = 30\n",
    "lr = 0.1\n",
    "weight_decay = 0.\n",
    "\n",
    "logger = train.train(model, ds_train, ds_valid, bs=bs, num_epochs=num_epochs, lr=lr, \n",
    "                     weight_decay=weight_decay)\n",
    "train.show_log(logger)\n",
    "\n",
    "# Plotar as métricas usando o logger\n",
    "plot_training_metrics_from_logger(logger)\n"
   ]
  }
 ],
 "metadata": {
  "kernelspec": {
   "display_name": "vc2024",
   "language": "python",
   "name": "python3"
  },
  "language_info": {
   "codemirror_mode": {
    "name": "ipython",
    "version": 3
   },
   "file_extension": ".py",
   "mimetype": "text/x-python",
   "name": "python",
   "nbconvert_exporter": "python",
   "pygments_lexer": "ipython3",
   "version": "3.12.3"
  }
 },
 "nbformat": 4,
 "nbformat_minor": 2
}
