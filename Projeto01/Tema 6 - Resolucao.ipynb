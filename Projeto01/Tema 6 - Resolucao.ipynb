{
 "cells": [
  {
   "cell_type": "markdown",
   "metadata": {},
   "source": [
    "# Estatísticas dos parâmetros de um modelo\n",
    "\n",
    "1. Faça uma função que receba como entrada uma rede neural e retorne um dicionário no qual cada chave é o nome de um parâmetro do modelo e os respectivos valores são:\n",
    "    * O maior e menor valor do parâmetro;\n",
    "    * O maior e menor valor do gradiente do parâmetro;\n",
    "2. Faça uma função que receba o dicionário de 1 e retorne o menor e maior valor dentre todos os parâmetros e todos os gradientes (4 valores no total);\n",
    "2. Modifique o script de treinamento visto nas aulas para plotar além da loss e da acurácia, os menores e maiores valores retornados em 2. Crie um terceiro gráfico (além do gráfico da loss e acurácia), para mostrar os valores. Os valores devem ser plotados **durante o treinamento da rede**\n",
    "    "
   ]
  },
  {
   "cell_type": "markdown",
   "metadata": {},
   "source": [
    "Exemplo"
   ]
  },
  {
   "cell_type": "code",
   "execution_count": 1,
   "metadata": {},
   "outputs": [],
   "source": [
    "import torch\n",
    "from torch import nn\n",
    "from torchvision import models\n",
    "\n",
    "# Imagem aleatória para ilustração\n",
    "img = torch.rand(1, 3, 224, 224)\n",
    "model = models.resnet18(weights=models.ResNet18_Weights.DEFAULT)"
   ]
  },
  {
   "cell_type": "code",
   "execution_count": 2,
   "metadata": {},
   "outputs": [
    {
     "data": {
      "text/plain": [
       "{'conv1.weight': {'g_max': 0.0005001913523301482},\n",
       " 'bn1.weight': {'g_max': 0.000433371722465381},\n",
       " 'bn1.bias': {'g_max': 0.00012906186748296022},\n",
       " 'layer1.0.conv1.weight': {'g_max': 0.00019580205844249576},\n",
       " 'layer1.0.bn1.weight': {'g_max': 0.000267088005784899},\n",
       " 'layer1.0.bn1.bias': {'g_max': 0.00019527360564097762},\n",
       " 'layer1.0.conv2.weight': {'g_max': 0.00014336680760607123},\n",
       " 'layer1.0.bn2.weight': {'g_max': 0.00037415677797980607},\n",
       " 'layer1.0.bn2.bias': {'g_max': 0.00013171850878279656},\n",
       " 'layer1.1.conv1.weight': {'g_max': 9.317815420217812e-05},\n",
       " 'layer1.1.bn1.weight': {'g_max': 0.00034404624602757394},\n",
       " 'layer1.1.bn1.bias': {'g_max': 0.0002596129197627306},\n",
       " 'layer1.1.conv2.weight': {'g_max': 0.00012835809320677072},\n",
       " 'layer1.1.bn2.weight': {'g_max': 0.0002495239896234125},\n",
       " 'layer1.1.bn2.bias': {'g_max': 0.0001670464116614312},\n",
       " 'layer2.0.conv1.weight': {'g_max': 0.0001410093391314149},\n",
       " 'layer2.0.bn1.weight': {'g_max': 0.0002989053900819272},\n",
       " 'layer2.0.bn1.bias': {'g_max': 0.0003268355212640017},\n",
       " 'layer2.0.conv2.weight': {'g_max': 0.00014370933058671653},\n",
       " 'layer2.0.bn2.weight': {'g_max': 0.00027475313981994987},\n",
       " 'layer2.0.bn2.bias': {'g_max': 0.00017185724573209882},\n",
       " 'layer2.0.downsample.0.weight': {'g_max': 0.0001943743700394407},\n",
       " 'layer2.0.downsample.1.weight': {'g_max': 0.00022377437562681735},\n",
       " 'layer2.0.downsample.1.bias': {'g_max': 0.00017185724573209882},\n",
       " 'layer2.1.conv1.weight': {'g_max': 0.00021747506980318576},\n",
       " 'layer2.1.bn1.weight': {'g_max': 0.00036376435309648514},\n",
       " 'layer2.1.bn1.bias': {'g_max': 0.00024769300944171846},\n",
       " 'layer2.1.conv2.weight': {'g_max': 0.00012394889199640602},\n",
       " 'layer2.1.bn2.weight': {'g_max': 0.0002210006205132231},\n",
       " 'layer2.1.bn2.bias': {'g_max': 0.00013744720490649343},\n",
       " 'layer3.0.conv1.weight': {'g_max': 0.00011916593939531595},\n",
       " 'layer3.0.bn1.weight': {'g_max': 0.00016356514242943376},\n",
       " 'layer3.0.bn1.bias': {'g_max': 0.00017692192341201007},\n",
       " 'layer3.0.conv2.weight': {'g_max': 7.950305007398129e-05},\n",
       " 'layer3.0.bn2.weight': {'g_max': 0.00022783494205214083},\n",
       " 'layer3.0.bn2.bias': {'g_max': 0.0001481800281908363},\n",
       " 'layer3.0.downsample.0.weight': {'g_max': 8.150495705194771e-05},\n",
       " 'layer3.0.downsample.1.weight': {'g_max': 0.00017969375767279416},\n",
       " 'layer3.0.downsample.1.bias': {'g_max': 0.0001481800281908363},\n",
       " 'layer3.1.conv1.weight': {'g_max': 0.00011868157889693975},\n",
       " 'layer3.1.bn1.weight': {'g_max': 0.0002970887871924788},\n",
       " 'layer3.1.bn1.bias': {'g_max': 0.00031042422051541507},\n",
       " 'layer3.1.conv2.weight': {'g_max': 0.00015359844837803394},\n",
       " 'layer3.1.bn2.weight': {'g_max': 0.000190933802514337},\n",
       " 'layer3.1.bn2.bias': {'g_max': 0.0001216037489939481},\n",
       " 'layer4.0.conv1.weight': {'g_max': 9.024636528920382e-05},\n",
       " 'layer4.0.bn1.weight': {'g_max': 0.00022153421014081687},\n",
       " 'layer4.0.bn1.bias': {'g_max': 0.00047536403872072697},\n",
       " 'layer4.0.conv2.weight': {'g_max': 8.816681656753644e-05},\n",
       " 'layer4.0.bn2.weight': {'g_max': 0.00017010656301863492},\n",
       " 'layer4.0.bn2.bias': {'g_max': 0.00021995979477651417},\n",
       " 'layer4.0.downsample.0.weight': {'g_max': 0.00012749756569974124},\n",
       " 'layer4.0.downsample.1.weight': {'g_max': 9.955224231816828e-05},\n",
       " 'layer4.0.downsample.1.bias': {'g_max': 0.00021995979477651417},\n",
       " 'layer4.1.conv1.weight': {'g_max': 0.00010606656724121422},\n",
       " 'layer4.1.bn1.weight': {'g_max': 0.00021223066141828895},\n",
       " 'layer4.1.bn1.bias': {'g_max': 0.00016398951993323863},\n",
       " 'layer4.1.conv2.weight': {'g_max': 6.98813601047732e-05},\n",
       " 'layer4.1.bn2.weight': {'g_max': 7.78264002292417e-05},\n",
       " 'layer4.1.bn2.bias': {'g_max': 0.00010571309394435957},\n",
       " 'fc.weight': {'g_max': 1.4090856313705444},\n",
       " 'fc.bias': {'g_max': 1.0}}"
      ]
     },
     "execution_count": 2,
     "metadata": {},
     "output_type": "execute_result"
    }
   ],
   "source": [
    "def max_grad(model):\n",
    "    \"\"\"Máximo valor de gradiente de cada parâmetro.\"\"\"\n",
    "\n",
    "    stats = {}\n",
    "    # model.named_parameters() retorna os nomes e respectivos parâmetros do\n",
    "    # modelo\n",
    "    for param_name, param in model.named_parameters():\n",
    "        grad = param.grad\n",
    "        g_max = grad.max()\n",
    "        stats[param_name] = {'g_max':g_max.item()}\n",
    "\n",
    "    return stats\n",
    "\n",
    "# Aplica o modelo\n",
    "scores = model(img)\n",
    "# Calcula os gradientes (em um treinamento real seria loss.backward())\n",
    "scores.sum().backward()\n",
    "\n",
    "max_grad(model)"
   ]
  }
 ],
 "metadata": {
  "kernelspec": {
   "display_name": "vc2024",
   "language": "python",
   "name": "python3"
  },
  "language_info": {
   "codemirror_mode": {
    "name": "ipython",
    "version": 3
   },
   "file_extension": ".py",
   "mimetype": "text/x-python",
   "name": "python",
   "nbconvert_exporter": "python",
   "pygments_lexer": "ipython3",
   "version": "3.12.3"
  }
 },
 "nbformat": 4,
 "nbformat_minor": 2
}
