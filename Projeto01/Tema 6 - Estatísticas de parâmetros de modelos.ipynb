{
 "cells": [
  {
   "cell_type": "markdown",
   "metadata": {},
   "source": [
    "# Estatísticas dos parâmetros de um modelo\n",
    "\n",
    "1. Faça uma função que receba como entrada uma rede neural e retorne um dicionário no qual cada chave é o nome de um parâmetro do modelo e os respectivos valores são:\n",
    "    * O maior e menor valor do parâmetro;\n",
    "    * O maior e menor valor do gradiente do parâmetro;\n",
    "2. Faça uma função que receba o dicionário de 1 e retorne o menor e maior valor dentre todos os parâmetros e todos os gradientes (4 valores no total);\n",
    "2. Modifique o script de treinamento visto nas aulas para plotar além da loss e da acurácia, os menores e maiores valores retornados em 2. Crie um terceiro gráfico (além do gráfico da loss e acurácia), para mostrar os valores. Os valores devem ser plotados **durante o treinamento da rede**\n",
    "    "
   ]
  },
  {
   "cell_type": "markdown",
   "metadata": {},
   "source": [
    "Exemplo"
   ]
  },
  {
   "cell_type": "code",
   "execution_count": 2,
   "metadata": {},
   "outputs": [],
   "source": [
    "import torch\n",
    "from torch import nn\n",
    "from torchvision import models\n",
    "\n",
    "# Imagem aleatória para ilustração\n",
    "img = torch.rand(1, 3, 224, 224)\n",
    "model = models.resnet18(weights=models.ResNet18_Weights.DEFAULT)"
   ]
  },
  {
   "cell_type": "code",
   "execution_count": 3,
   "metadata": {},
   "outputs": [
    {
     "data": {
      "text/plain": [
       "{'conv1.weight': {'g_max': 0.0005955019150860608},\n",
       " 'bn1.weight': {'g_max': 0.0006012363010086119},\n",
       " 'bn1.bias': {'g_max': 0.00012763346603605896},\n",
       " 'layer1.0.conv1.weight': {'g_max': 0.00019625523418653756},\n",
       " 'layer1.0.bn1.weight': {'g_max': 0.00020382615912239999},\n",
       " 'layer1.0.bn1.bias': {'g_max': 0.0002441712422296405},\n",
       " 'layer1.0.conv2.weight': {'g_max': 0.0001458933693356812},\n",
       " 'layer1.0.bn2.weight': {'g_max': 0.00036038164398632944},\n",
       " 'layer1.0.bn2.bias': {'g_max': 0.00015570386312901974},\n",
       " 'layer1.1.conv1.weight': {'g_max': 0.00011357085895724595},\n",
       " 'layer1.1.bn1.weight': {'g_max': 0.0002485921431798488},\n",
       " 'layer1.1.bn1.bias': {'g_max': 0.00017722138727549464},\n",
       " 'layer1.1.conv2.weight': {'g_max': 9.755839710123837e-05},\n",
       " 'layer1.1.bn2.weight': {'g_max': 0.00018897460540756583},\n",
       " 'layer1.1.bn2.bias': {'g_max': 0.00011863171675940976},\n",
       " 'layer2.0.conv1.weight': {'g_max': 0.00018392709898762405},\n",
       " 'layer2.0.bn1.weight': {'g_max': 0.00032931205350905657},\n",
       " 'layer2.0.bn1.bias': {'g_max': 0.0002909462491516024},\n",
       " 'layer2.0.conv2.weight': {'g_max': 0.00018686377734411508},\n",
       " 'layer2.0.bn2.weight': {'g_max': 0.00030694418819621205},\n",
       " 'layer2.0.bn2.bias': {'g_max': 0.00021073344396427274},\n",
       " 'layer2.0.downsample.0.weight': {'g_max': 0.0002046397130470723},\n",
       " 'layer2.0.downsample.1.weight': {'g_max': 0.00020775487064383924},\n",
       " 'layer2.0.downsample.1.bias': {'g_max': 0.00021073344396427274},\n",
       " 'layer2.1.conv1.weight': {'g_max': 0.00015867958427406847},\n",
       " 'layer2.1.bn1.weight': {'g_max': 0.000278151041129604},\n",
       " 'layer2.1.bn1.bias': {'g_max': 0.00020435497572179884},\n",
       " 'layer2.1.conv2.weight': {'g_max': 0.0002801697701215744},\n",
       " 'layer2.1.bn2.weight': {'g_max': 0.00029000197537243366},\n",
       " 'layer2.1.bn2.bias': {'g_max': 0.00011469039600342512},\n",
       " 'layer3.0.conv1.weight': {'g_max': 0.00010984362597810104},\n",
       " 'layer3.0.bn1.weight': {'g_max': 0.0002651414251886308},\n",
       " 'layer3.0.bn1.bias': {'g_max': 0.00016639407840557396},\n",
       " 'layer3.0.conv2.weight': {'g_max': 0.00010029913391917944},\n",
       " 'layer3.0.bn2.weight': {'g_max': 0.000192417879588902},\n",
       " 'layer3.0.bn2.bias': {'g_max': 0.00014065575669519603},\n",
       " 'layer3.0.downsample.0.weight': {'g_max': 7.377380825346336e-05},\n",
       " 'layer3.0.downsample.1.weight': {'g_max': 0.00023040630912873894},\n",
       " 'layer3.0.downsample.1.bias': {'g_max': 0.00014065575669519603},\n",
       " 'layer3.1.conv1.weight': {'g_max': 0.00011222343164263293},\n",
       " 'layer3.1.bn1.weight': {'g_max': 0.00025284537696279585},\n",
       " 'layer3.1.bn1.bias': {'g_max': 0.00018118081788998097},\n",
       " 'layer3.1.conv2.weight': {'g_max': 0.0001013321743812412},\n",
       " 'layer3.1.bn2.weight': {'g_max': 0.00015959632582962513},\n",
       " 'layer3.1.bn2.bias': {'g_max': 0.00011639948206720874},\n",
       " 'layer4.0.conv1.weight': {'g_max': 0.00010354399273637682},\n",
       " 'layer4.0.bn1.weight': {'g_max': 0.0002328709524590522},\n",
       " 'layer4.0.bn1.bias': {'g_max': 0.0003378293476998806},\n",
       " 'layer4.0.conv2.weight': {'g_max': 0.00010398144513601437},\n",
       " 'layer4.0.bn2.weight': {'g_max': 0.00014645999181084335},\n",
       " 'layer4.0.bn2.bias': {'g_max': 0.0001362522307317704},\n",
       " 'layer4.0.downsample.0.weight': {'g_max': 7.547354471171275e-05},\n",
       " 'layer4.0.downsample.1.weight': {'g_max': 0.00019006614456884563},\n",
       " 'layer4.0.downsample.1.bias': {'g_max': 0.0001362522307317704},\n",
       " 'layer4.1.conv1.weight': {'g_max': 9.138890163740143e-05},\n",
       " 'layer4.1.bn1.weight': {'g_max': 0.0002575363323558122},\n",
       " 'layer4.1.bn1.bias': {'g_max': 0.00014755476149730384},\n",
       " 'layer4.1.conv2.weight': {'g_max': 6.17703190073371e-05},\n",
       " 'layer4.1.bn2.weight': {'g_max': 7.562575774500147e-05},\n",
       " 'layer4.1.bn2.bias': {'g_max': 0.00012021648581139743},\n",
       " 'fc.weight': {'g_max': 1.4555710554122925},\n",
       " 'fc.bias': {'g_max': 1.0}}"
      ]
     },
     "execution_count": 3,
     "metadata": {},
     "output_type": "execute_result"
    }
   ],
   "source": [
    "def max_grad(model):\n",
    "    \"\"\"Máximo valor de gradiente de cada parâmetro.\"\"\"\n",
    "\n",
    "    stats = {}\n",
    "    # model.named_parameters() retorna os nomes e respectivos parâmetros do\n",
    "    # modelo\n",
    "    for param_name, param in model.named_parameters():\n",
    "        grad = param.grad\n",
    "        g_max = grad.max()\n",
    "        stats[param_name] = {'g_max':g_max.item()}\n",
    "\n",
    "    return stats\n",
    "\n",
    "# Aplica o modelo\n",
    "scores = model(img)\n",
    "# Calcula os gradientes (em um treinamento real seria loss.backward())\n",
    "scores.sum().backward()\n",
    "\n",
    "max_grad(model)"
   ]
  }
 ],
 "metadata": {
  "kernelspec": {
   "display_name": "vc2024",
   "language": "python",
   "name": "python3"
  },
  "language_info": {
   "codemirror_mode": {
    "name": "ipython",
    "version": 3
   },
   "file_extension": ".py",
   "mimetype": "text/x-python",
   "name": "python",
   "nbconvert_exporter": "python",
   "pygments_lexer": "ipython3",
   "version": "3.12.3"
  }
 },
 "nbformat": 4,
 "nbformat_minor": 2
}
