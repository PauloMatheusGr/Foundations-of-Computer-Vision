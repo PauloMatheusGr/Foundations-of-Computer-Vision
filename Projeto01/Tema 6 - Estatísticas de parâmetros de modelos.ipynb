{
 "cells": [
  {
   "cell_type": "markdown",
   "metadata": {},
   "source": [
    "# Estatísticas dos parâmetros de um modelo\n",
    "\n",
    "1. Faça uma função que receba como entrada uma rede neural e retorne um dicionário no qual cada chave é o nome de um parâmetro do modelo e os respectivos valores são:\n",
    "    * O maior e menor valor do parâmetro;\n",
    "    * O maior e menor valor do gradiente do parâmetro;\n",
    "2. Faça uma função que receba o dicionário de 1 e retorne o menor e maior valor dentre todos os parâmetros e todos os gradientes (4 valores no total);\n",
    "2. Modifique o script de treinamento visto nas aulas para plotar além da loss e da acurácia, os menores e maiores valores retornados em 2. Crie um terceiro gráfico (além do gráfico da loss e acurácia), para mostrar os valores. Os valores devem ser plotados **durante o treinamento da rede**\n",
    "    "
   ]
  },
  {
   "cell_type": "markdown",
   "metadata": {},
   "source": [
    "Exemplo"
   ]
  },
  {
   "cell_type": "code",
   "execution_count": 6,
   "metadata": {},
   "outputs": [],
   "source": [
    "import torch\n",
    "from torch import nn\n",
    "from torchvision import models\n",
    "\n",
    "# Imagem aleatória para ilustração\n",
    "img = torch.rand(1, 3, 224, 224)\n",
    "model = models.resnet18(weights=models.ResNet18_Weights.DEFAULT)"
   ]
  },
  {
   "cell_type": "code",
   "execution_count": 10,
   "metadata": {},
   "outputs": [
    {
     "data": {
      "text/plain": [
       "{'conv1.weight': {'g_max': 0.0026799747720360756},\n",
       " 'bn1.weight': {'g_max': 0.0033212651032954454},\n",
       " 'bn1.bias': {'g_max': 0.0007599055534228683},\n",
       " 'layer1.0.conv1.weight': {'g_max': 0.0008065346046350896},\n",
       " 'layer1.0.bn1.weight': {'g_max': 0.0016008730744943023},\n",
       " 'layer1.0.bn1.bias': {'g_max': 0.0009313514456152916},\n",
       " 'layer1.0.conv2.weight': {'g_max': 0.0008060897816903889},\n",
       " 'layer1.0.bn2.weight': {'g_max': 0.0015625610249117017},\n",
       " 'layer1.0.bn2.bias': {'g_max': 0.0006837750552222133},\n",
       " 'layer1.1.conv1.weight': {'g_max': 0.0007065364043228328},\n",
       " 'layer1.1.bn1.weight': {'g_max': 0.0012373095378279686},\n",
       " 'layer1.1.bn1.bias': {'g_max': 0.0009634484886191785},\n",
       " 'layer1.1.conv2.weight': {'g_max': 0.0004953400348313153},\n",
       " 'layer1.1.bn2.weight': {'g_max': 0.0009205969981849194},\n",
       " 'layer1.1.bn2.bias': {'g_max': 0.00047529677976854146},\n",
       " 'layer2.0.conv1.weight': {'g_max': 0.0007748578791506588},\n",
       " 'layer2.0.bn1.weight': {'g_max': 0.0016422226326540112},\n",
       " 'layer2.0.bn1.bias': {'g_max': 0.0012352418852970004},\n",
       " 'layer2.0.conv2.weight': {'g_max': 0.0007822118350304663},\n",
       " 'layer2.0.bn2.weight': {'g_max': 0.0010160745587199926},\n",
       " 'layer2.0.bn2.bias': {'g_max': 0.0005810785805806518},\n",
       " 'layer2.0.downsample.0.weight': {'g_max': 0.0008658380247652531},\n",
       " 'layer2.0.downsample.1.weight': {'g_max': 0.0010050233686342835},\n",
       " 'layer2.0.downsample.1.bias': {'g_max': 0.0005810785805806518},\n",
       " 'layer2.1.conv1.weight': {'g_max': 0.0005249668611213565},\n",
       " 'layer2.1.bn1.weight': {'g_max': 0.0018996611470356584},\n",
       " 'layer2.1.bn1.bias': {'g_max': 0.0010501925135031343},\n",
       " 'layer2.1.conv2.weight': {'g_max': 0.000533676880877465},\n",
       " 'layer2.1.bn2.weight': {'g_max': 0.0009060411830432713},\n",
       " 'layer2.1.bn2.bias': {'g_max': 0.0007144936826080084},\n",
       " 'layer3.0.conv1.weight': {'g_max': 0.0005384632386267185},\n",
       " 'layer3.0.bn1.weight': {'g_max': 0.0008643775363452733},\n",
       " 'layer3.0.bn1.bias': {'g_max': 0.0006332939956337214},\n",
       " 'layer3.0.conv2.weight': {'g_max': 0.0004358335572760552},\n",
       " 'layer3.0.bn2.weight': {'g_max': 0.0007581295212730765},\n",
       " 'layer3.0.bn2.bias': {'g_max': 0.0005057775415480137},\n",
       " 'layer3.0.downsample.0.weight': {'g_max': 0.0003171470598317683},\n",
       " 'layer3.0.downsample.1.weight': {'g_max': 0.0006947244983166456},\n",
       " 'layer3.0.downsample.1.bias': {'g_max': 0.0005057775415480137},\n",
       " 'layer3.1.conv1.weight': {'g_max': 0.0005572165828198195},\n",
       " 'layer3.1.bn1.weight': {'g_max': 0.0011734033469110727},\n",
       " 'layer3.1.bn1.bias': {'g_max': 0.0008166201878339052},\n",
       " 'layer3.1.conv2.weight': {'g_max': 0.0005694133578799665},\n",
       " 'layer3.1.bn2.weight': {'g_max': 0.0009113976848311722},\n",
       " 'layer3.1.bn2.bias': {'g_max': 0.0005466321017593145},\n",
       " 'layer4.0.conv1.weight': {'g_max': 0.00038866474642418325},\n",
       " 'layer4.0.bn1.weight': {'g_max': 0.0010440765181556344},\n",
       " 'layer4.0.bn1.bias': {'g_max': 0.0009201511275023222},\n",
       " 'layer4.0.conv2.weight': {'g_max': 0.0005216378485783935},\n",
       " 'layer4.0.bn2.weight': {'g_max': 0.0007126368000172079},\n",
       " 'layer4.0.bn2.bias': {'g_max': 0.0009451531223021448},\n",
       " 'layer4.0.downsample.0.weight': {'g_max': 0.0010245523881167173},\n",
       " 'layer4.0.downsample.1.weight': {'g_max': 0.00046587950782850385},\n",
       " 'layer4.0.downsample.1.bias': {'g_max': 0.0009451531223021448},\n",
       " 'layer4.1.conv1.weight': {'g_max': 0.0004427855310495943},\n",
       " 'layer4.1.bn1.weight': {'g_max': 0.0008167388732545078},\n",
       " 'layer4.1.bn1.bias': {'g_max': 0.000585975416470319},\n",
       " 'layer4.1.conv2.weight': {'g_max': 0.00042012505582533777},\n",
       " 'layer4.1.bn2.weight': {'g_max': 0.0002859358210116625},\n",
       " 'layer4.1.bn2.bias': {'g_max': 0.0004932637675665319},\n",
       " 'fc.weight': {'g_max': 5.688323974609375},\n",
       " 'fc.bias': {'g_max': 4.0}}"
      ]
     },
     "execution_count": 10,
     "metadata": {},
     "output_type": "execute_result"
    }
   ],
   "source": [
    "def max_grad(model):\n",
    "    \"\"\"Máximo valor de gradiente de cada parâmetro.\"\"\"\n",
    "\n",
    "    stats = {}\n",
    "    # model.named_parameters() retorna os nomes e respectivos parâmetros do\n",
    "    # modelo\n",
    "    for param_name, param in model.named_parameters():\n",
    "        grad = param.grad\n",
    "        g_max = grad.max()\n",
    "        stats[param_name] = {'g_max':g_max.item()}\n",
    "\n",
    "    return stats\n",
    "\n",
    "# Aplica o modelo\n",
    "scores = model(img)\n",
    "# Calcula os gradientes (em um treinamento real seria loss.backward())\n",
    "scores.sum().backward()\n",
    "\n",
    "max_grad(model)"
   ]
  }
 ],
 "metadata": {
  "kernelspec": {
   "display_name": "vc2024",
   "language": "python",
   "name": "python3"
  },
  "language_info": {
   "codemirror_mode": {
    "name": "ipython",
    "version": 3
   },
   "file_extension": ".py",
   "mimetype": "text/x-python",
   "name": "python",
   "nbconvert_exporter": "python",
   "pygments_lexer": "ipython3",
   "version": "3.12.2"
  }
 },
 "nbformat": 4,
 "nbformat_minor": 2
}
