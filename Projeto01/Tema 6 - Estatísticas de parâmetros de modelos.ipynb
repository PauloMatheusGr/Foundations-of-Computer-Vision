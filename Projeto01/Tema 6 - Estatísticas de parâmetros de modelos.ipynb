{
 "cells": [
  {
   "cell_type": "markdown",
   "metadata": {},
   "source": [
    "# Estatísticas dos parâmetros de um modelo\n",
    "\n",
    "1. Faça uma função que receba como entrada uma rede neural e retorne um dicionário no qual cada chave é o nome de um parâmetro do modelo e os respectivos valores são:\n",
    "    * O maior e menor valor do parâmetro;\n",
    "    * O maior e menor valor do gradiente do parâmetro;\n",
    "2. Faça uma função que receba o dicionário de 1 e retorne o menor e maior valor dentre todos os parâmetros e todos os gradientes (4 valores no total);\n",
    "2. Modifique o script de treinamento visto nas aulas para plotar além da loss e da acurácia, os menores e maiores valores retornados em 2. Crie um terceiro gráfico (além do gráfico da loss e acurácia), para mostrar os valores. Os valores devem ser plotados **durante o treinamento da rede**\n",
    "    "
   ]
  },
  {
   "cell_type": "markdown",
   "metadata": {},
   "source": [
    "Exemplo"
   ]
  },
  {
   "cell_type": "code",
   "execution_count": 1,
   "metadata": {},
   "outputs": [],
   "source": [
    "import torch\n",
    "from torch import nn\n",
    "from torchvision import models\n",
    "\n",
    "# Imagem aleatória para ilustração\n",
    "img = torch.rand(1, 3, 224, 224)\n",
    "model = models.resnet18(weights=models.ResNet18_Weights.DEFAULT)"
   ]
  },
  {
   "cell_type": "code",
   "execution_count": 3,
   "metadata": {},
   "outputs": [
    {
     "data": {
      "text/plain": [
       "{'conv1.weight': {'g_max': 0.0010213203495368361},\n",
       " 'bn1.weight': {'g_max': 0.0012779858661815524},\n",
       " 'bn1.bias': {'g_max': 0.0003676501219160855},\n",
       " 'layer1.0.conv1.weight': {'g_max': 0.0005047412705607712},\n",
       " 'layer1.0.bn1.weight': {'g_max': 0.0008932413184083998},\n",
       " 'layer1.0.bn1.bias': {'g_max': 0.0006042661261744797},\n",
       " 'layer1.0.conv2.weight': {'g_max': 0.00036814381019212306},\n",
       " 'layer1.0.bn2.weight': {'g_max': 0.0004616673104465008},\n",
       " 'layer1.0.bn2.bias': {'g_max': 0.0002635377459228039},\n",
       " 'layer1.1.conv1.weight': {'g_max': 0.0002284262009197846},\n",
       " 'layer1.1.bn1.weight': {'g_max': 0.0005413254839368165},\n",
       " 'layer1.1.bn1.bias': {'g_max': 0.0003359592519700527},\n",
       " 'layer1.1.conv2.weight': {'g_max': 0.00027229564148001373},\n",
       " 'layer1.1.bn2.weight': {'g_max': 0.0006306720315478742},\n",
       " 'layer1.1.bn2.bias': {'g_max': 0.0003140174667350948},\n",
       " 'layer2.0.conv1.weight': {'g_max': 0.0002869523596018553},\n",
       " 'layer2.0.bn1.weight': {'g_max': 0.0008630674565210938},\n",
       " 'layer2.0.bn1.bias': {'g_max': 0.0003938435111194849},\n",
       " 'layer2.0.conv2.weight': {'g_max': 0.00031455999123863876},\n",
       " 'layer2.0.bn2.weight': {'g_max': 0.0005059022805653512},\n",
       " 'layer2.0.bn2.bias': {'g_max': 0.00031428487272933125},\n",
       " 'layer2.0.downsample.0.weight': {'g_max': 0.0003659148351289332},\n",
       " 'layer2.0.downsample.1.weight': {'g_max': 0.000440054020145908},\n",
       " 'layer2.0.downsample.1.bias': {'g_max': 0.00031428487272933125},\n",
       " 'layer2.1.conv1.weight': {'g_max': 0.00026214707759208977},\n",
       " 'layer2.1.bn1.weight': {'g_max': 0.0005525238229893148},\n",
       " 'layer2.1.bn1.bias': {'g_max': 0.0006030085496604443},\n",
       " 'layer2.1.conv2.weight': {'g_max': 0.0002638207806739956},\n",
       " 'layer2.1.bn2.weight': {'g_max': 0.00067467475309968},\n",
       " 'layer2.1.bn2.bias': {'g_max': 0.0003182304499205202},\n",
       " 'layer3.0.conv1.weight': {'g_max': 0.00018615208682604134},\n",
       " 'layer3.0.bn1.weight': {'g_max': 0.00041737896390259266},\n",
       " 'layer3.0.bn1.bias': {'g_max': 0.00037246287683956325},\n",
       " 'layer3.0.conv2.weight': {'g_max': 0.00018712636665441096},\n",
       " 'layer3.0.bn2.weight': {'g_max': 0.00047473597805947065},\n",
       " 'layer3.0.bn2.bias': {'g_max': 0.00034050014801323414},\n",
       " 'layer3.0.downsample.0.weight': {'g_max': 0.0001563666737638414},\n",
       " 'layer3.0.downsample.1.weight': {'g_max': 0.0004106984124518931},\n",
       " 'layer3.0.downsample.1.bias': {'g_max': 0.00034050014801323414},\n",
       " 'layer3.1.conv1.weight': {'g_max': 0.00035001657670363784},\n",
       " 'layer3.1.bn1.weight': {'g_max': 0.0004965965636074543},\n",
       " 'layer3.1.bn1.bias': {'g_max': 0.00036988803185522556},\n",
       " 'layer3.1.conv2.weight': {'g_max': 0.0002313868171768263},\n",
       " 'layer3.1.bn2.weight': {'g_max': 0.0003258175274822861},\n",
       " 'layer3.1.bn2.bias': {'g_max': 0.0001667022006586194},\n",
       " 'layer4.0.conv1.weight': {'g_max': 0.00017808256961870939},\n",
       " 'layer4.0.bn1.weight': {'g_max': 0.00040836536209098995},\n",
       " 'layer4.0.bn1.bias': {'g_max': 0.00046599810593761504},\n",
       " 'layer4.0.conv2.weight': {'g_max': 0.00018867857579607517},\n",
       " 'layer4.0.bn2.weight': {'g_max': 0.00023977996897883713},\n",
       " 'layer4.0.bn2.bias': {'g_max': 0.00029613348306156695},\n",
       " 'layer4.0.downsample.0.weight': {'g_max': 0.00012945046182721853},\n",
       " 'layer4.0.downsample.1.weight': {'g_max': 0.00019078512559644878},\n",
       " 'layer4.0.downsample.1.bias': {'g_max': 0.00029613348306156695},\n",
       " 'layer4.1.conv1.weight': {'g_max': 0.00013893854338675737},\n",
       " 'layer4.1.bn1.weight': {'g_max': 0.0004719755088444799},\n",
       " 'layer4.1.bn1.bias': {'g_max': 0.0002647012588568032},\n",
       " 'layer4.1.conv2.weight': {'g_max': 0.00014343837392516434},\n",
       " 'layer4.1.bn2.weight': {'g_max': 0.00015001624706201255},\n",
       " 'layer4.1.bn2.bias': {'g_max': 0.00025603509857319295},\n",
       " 'fc.weight': {'g_max': 2.6494884490966797},\n",
       " 'fc.bias': {'g_max': 2.0}}"
      ]
     },
     "execution_count": 3,
     "metadata": {},
     "output_type": "execute_result"
    }
   ],
   "source": [
    "def max_grad(model):\n",
    "    \"\"\"Máximo valor de gradiente de cada parâmetro.\"\"\"\n",
    "\n",
    "    stats = {}\n",
    "    # model.named_parameters() retorna os nomes e respectivos parâmetros do\n",
    "    # modelo\n",
    "    for param_name, param in model.named_parameters():\n",
    "        grad = param.grad\n",
    "        g_max = grad.max()\n",
    "        stats[param_name] = {'g_max':g_max.item()}\n",
    "\n",
    "    return stats\n",
    "\n",
    "# Aplica o modelo\n",
    "scores = model(img)\n",
    "# Calcula os gradientes (em um treinamento real seria loss.backward())\n",
    "scores.sum().backward()\n",
    "\n",
    "max_grad(model)"
   ]
  }
 ],
 "metadata": {
  "kernelspec": {
   "display_name": "vc2024",
   "language": "python",
   "name": "python3"
  },
  "language_info": {
   "codemirror_mode": {
    "name": "ipython",
    "version": 3
   },
   "file_extension": ".py",
   "mimetype": "text/x-python",
   "name": "python",
   "nbconvert_exporter": "python",
   "pygments_lexer": "ipython3",
   "version": "3.12.3"
  }
 },
 "nbformat": 4,
 "nbformat_minor": 2
}
