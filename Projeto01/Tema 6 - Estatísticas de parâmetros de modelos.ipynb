{
 "cells": [
  {
   "cell_type": "markdown",
   "metadata": {},
   "source": [
    "# Estatísticas dos parâmetros de um modelo\n",
    "\n",
    "1. Faça uma função que receba como entrada uma rede neural e retorne um dicionário no qual cada chave é o nome de um parâmetro do modelo e os respectivos valores são:\n",
    "    * O maior e menor valor do parâmetro;\n",
    "    * O maior e menor valor do gradiente do parâmetro;\n",
    "2. Faça uma função que receba o dicionário de 1 e retorne o menor e maior valor dentre todos os parâmetros e todos os gradientes (4 valores no total);\n",
    "2. Modifique o script de treinamento visto nas aulas para plotar além da loss e da acurácia, os menores e maiores valores retornados em 2. Crie um terceiro gráfico (além do gráfico da loss e acurácia), para mostrar os valores. Os valores devem ser plotados **durante o treinamento da rede**\n",
    "    "
   ]
  },
  {
   "cell_type": "markdown",
   "metadata": {},
   "source": [
    "Exemplo"
   ]
  },
  {
   "cell_type": "code",
   "execution_count": 1,
   "metadata": {},
   "outputs": [],
   "source": [
    "import torch\n",
    "from torch import nn\n",
    "from torchvision import models\n",
    "\n",
    "# Imagem aleatória para ilustração\n",
    "img = torch.rand(1, 3, 224, 224)\n",
    "model = models.resnet18(weights=models.ResNet18_Weights.DEFAULT)"
   ]
  },
  {
   "cell_type": "code",
   "execution_count": 3,
   "metadata": {},
   "outputs": [
    {
     "data": {
      "text/plain": [
       "{'conv1.weight': {'g_max': 0.0013123333919793367},\n",
       " 'bn1.weight': {'g_max': 0.0014619275461882353},\n",
       " 'bn1.bias': {'g_max': 0.0005580271244980395},\n",
       " 'layer1.0.conv1.weight': {'g_max': 0.0005531617207452655},\n",
       " 'layer1.0.bn1.weight': {'g_max': 0.000977312563918531},\n",
       " 'layer1.0.bn1.bias': {'g_max': 0.0008281568298116326},\n",
       " 'layer1.0.conv2.weight': {'g_max': 0.0004988232394680381},\n",
       " 'layer1.0.bn2.weight': {'g_max': 0.00045942343422211707},\n",
       " 'layer1.0.bn2.bias': {'g_max': 0.0002711822744458914},\n",
       " 'layer1.1.conv1.weight': {'g_max': 0.0002429812157060951},\n",
       " 'layer1.1.bn1.weight': {'g_max': 0.0005785499233752489},\n",
       " 'layer1.1.bn1.bias': {'g_max': 0.0006686609121970832},\n",
       " 'layer1.1.conv2.weight': {'g_max': 0.0002466978330630809},\n",
       " 'layer1.1.bn2.weight': {'g_max': 0.0010785739868879318},\n",
       " 'layer1.1.bn2.bias': {'g_max': 0.0002935083466582},\n",
       " 'layer2.0.conv1.weight': {'g_max': 0.00044346798676997423},\n",
       " 'layer2.0.bn1.weight': {'g_max': 0.0011447258293628693},\n",
       " 'layer2.0.bn1.bias': {'g_max': 0.000550266879145056},\n",
       " 'layer2.0.conv2.weight': {'g_max': 0.0003794854274019599},\n",
       " 'layer2.0.bn2.weight': {'g_max': 0.0006784300203435123},\n",
       " 'layer2.0.bn2.bias': {'g_max': 0.0003897565766237676},\n",
       " 'layer2.0.downsample.0.weight': {'g_max': 0.000499108515214175},\n",
       " 'layer2.0.downsample.1.weight': {'g_max': 0.0008446180145256221},\n",
       " 'layer2.0.downsample.1.bias': {'g_max': 0.0003897565766237676},\n",
       " 'layer2.1.conv1.weight': {'g_max': 0.00044975196942687035},\n",
       " 'layer2.1.bn1.weight': {'g_max': 0.0009680937509983778},\n",
       " 'layer2.1.bn1.bias': {'g_max': 0.0005370611324906349},\n",
       " 'layer2.1.conv2.weight': {'g_max': 0.0003626040124800056},\n",
       " 'layer2.1.bn2.weight': {'g_max': 0.0005671080434694886},\n",
       " 'layer2.1.bn2.bias': {'g_max': 0.00054039346287027},\n",
       " 'layer3.0.conv1.weight': {'g_max': 0.00026468129362910986},\n",
       " 'layer3.0.bn1.weight': {'g_max': 0.0005187355563975871},\n",
       " 'layer3.0.bn1.bias': {'g_max': 0.00039708317490294576},\n",
       " 'layer3.0.conv2.weight': {'g_max': 0.00024626648519188166},\n",
       " 'layer3.0.bn2.weight': {'g_max': 0.0006238332716748118},\n",
       " 'layer3.0.bn2.bias': {'g_max': 0.00030213623540475965},\n",
       " 'layer3.0.downsample.0.weight': {'g_max': 0.00023332821729127318},\n",
       " 'layer3.0.downsample.1.weight': {'g_max': 0.0004524402320384979},\n",
       " 'layer3.0.downsample.1.bias': {'g_max': 0.00030213623540475965},\n",
       " 'layer3.1.conv1.weight': {'g_max': 0.0003275023482274264},\n",
       " 'layer3.1.bn1.weight': {'g_max': 0.0006642513326369226},\n",
       " 'layer3.1.bn1.bias': {'g_max': 0.0005221659666858613},\n",
       " 'layer3.1.conv2.weight': {'g_max': 0.0002635465934872627},\n",
       " 'layer3.1.bn2.weight': {'g_max': 0.0005075903027318418},\n",
       " 'layer3.1.bn2.bias': {'g_max': 0.00032410642597824335},\n",
       " 'layer4.0.conv1.weight': {'g_max': 0.0002721415658015758},\n",
       " 'layer4.0.bn1.weight': {'g_max': 0.0007166978903114796},\n",
       " 'layer4.0.bn1.bias': {'g_max': 0.0006348660681396723},\n",
       " 'layer4.0.conv2.weight': {'g_max': 0.0002464063873048872},\n",
       " 'layer4.0.bn2.weight': {'g_max': 0.0002995742834173143},\n",
       " 'layer4.0.bn2.bias': {'g_max': 0.0003535221912898123},\n",
       " 'layer4.0.downsample.0.weight': {'g_max': 0.0002675104478839785},\n",
       " 'layer4.0.downsample.1.weight': {'g_max': 0.00030410589533858},\n",
       " 'layer4.0.downsample.1.bias': {'g_max': 0.0003535221912898123},\n",
       " 'layer4.1.conv1.weight': {'g_max': 0.0001929902791744098},\n",
       " 'layer4.1.bn1.weight': {'g_max': 0.00046282479888759553},\n",
       " 'layer4.1.bn1.bias': {'g_max': 0.00033330192673020065},\n",
       " 'layer4.1.conv2.weight': {'g_max': 0.0001633823849260807},\n",
       " 'layer4.1.bn2.weight': {'g_max': 0.0001508876885054633},\n",
       " 'layer4.1.bn2.bias': {'g_max': 0.0002481888805050403},\n",
       " 'fc.weight': {'g_max': 2.767787456512451},\n",
       " 'fc.bias': {'g_max': 2.0}}"
      ]
     },
     "execution_count": 3,
     "metadata": {},
     "output_type": "execute_result"
    }
   ],
   "source": [
    "def max_grad(model):\n",
    "    \"\"\"Máximo valor de gradiente de cada parâmetro.\"\"\"\n",
    "\n",
    "    stats = {}\n",
    "    # model.named_parameters() retorna os nomes e respectivos parâmetros do\n",
    "    # modelo\n",
    "    for param_name, param in model.named_parameters():\n",
    "        grad = param.grad\n",
    "        g_max = grad.max()\n",
    "        stats[param_name] = {'g_max':g_max.item()}\n",
    "\n",
    "    return stats\n",
    "\n",
    "# Aplica o modelo\n",
    "scores = model(img)\n",
    "# Calcula os gradientes (em um treinamento real seria loss.backward())\n",
    "scores.sum().backward()\n",
    "\n",
    "max_grad(model)"
   ]
  }
 ],
 "metadata": {
  "kernelspec": {
   "display_name": "vc2024",
   "language": "python",
   "name": "python3"
  },
  "language_info": {
   "codemirror_mode": {
    "name": "ipython",
    "version": 3
   },
   "file_extension": ".py",
   "mimetype": "text/x-python",
   "name": "python",
   "nbconvert_exporter": "python",
   "pygments_lexer": "ipython3",
   "version": "3.12.2"
  }
 },
 "nbformat": 4,
 "nbformat_minor": 2
}
