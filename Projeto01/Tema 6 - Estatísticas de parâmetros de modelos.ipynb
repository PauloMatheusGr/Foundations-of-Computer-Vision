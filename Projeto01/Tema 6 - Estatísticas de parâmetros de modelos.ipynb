{
 "cells": [
  {
   "cell_type": "markdown",
   "metadata": {},
   "source": [
    "# Estatísticas dos parâmetros de um modelo\n",
    "\n",
    "1. Faça uma função que receba como entrada uma rede neural e retorne um dicionário no qual cada chave é o nome de um parâmetro do modelo e os respectivos valores são:\n",
    "    * O maior e menor valor do parâmetro;\n",
    "    * O maior e menor valor do gradiente do parâmetro;\n",
    "2. Faça uma função que receba o dicionário de 1 e retorne o menor e maior valor dentre todos os parâmetros e todos os gradientes (4 valores no total);\n",
    "2. Modifique o script de treinamento visto nas aulas para plotar além da loss e da acurácia, os menores e maiores valores retornados em 2. Crie um terceiro gráfico (além do gráfico da loss e acurácia), para mostrar os valores. Os valores devem ser plotados **durante o treinamento da rede**\n",
    "    "
   ]
  },
  {
   "cell_type": "markdown",
   "metadata": {},
   "source": [
    "Exemplo"
   ]
  },
  {
   "cell_type": "code",
   "execution_count": 2,
   "metadata": {},
   "outputs": [],
   "source": [
    "import torch\n",
    "from torch import nn\n",
    "from torchvision import models\n",
    "\n",
    "# Imagem aleatória para ilustração\n",
    "img = torch.rand(1, 3, 224, 224)\n",
    "model = models.resnet18(weights=models.ResNet18_Weights.DEFAULT)"
   ]
  },
  {
   "cell_type": "code",
   "execution_count": 3,
   "metadata": {},
   "outputs": [
    {
     "data": {
      "text/plain": [
       "{'conv1.weight': {'g_max': 0.0006349413888528943},\n",
       " 'bn1.weight': {'g_max': 0.000694243295583874},\n",
       " 'bn1.bias': {'g_max': 0.00020426398259587586},\n",
       " 'layer1.0.conv1.weight': {'g_max': 0.0002212419785792008},\n",
       " 'layer1.0.bn1.weight': {'g_max': 0.000320327264489606},\n",
       " 'layer1.0.bn1.bias': {'g_max': 0.0003467774367891252},\n",
       " 'layer1.0.conv2.weight': {'g_max': 0.00018502197053749114},\n",
       " 'layer1.0.bn2.weight': {'g_max': 0.00041348073864355683},\n",
       " 'layer1.0.bn2.bias': {'g_max': 0.00012372349738143384},\n",
       " 'layer1.1.conv1.weight': {'g_max': 0.00012324574345257133},\n",
       " 'layer1.1.bn1.weight': {'g_max': 0.00027871812926605344},\n",
       " 'layer1.1.bn1.bias': {'g_max': 0.00019396637799218297},\n",
       " 'layer1.1.conv2.weight': {'g_max': 0.00011346530664013699},\n",
       " 'layer1.1.bn2.weight': {'g_max': 0.00023814357700757682},\n",
       " 'layer1.1.bn2.bias': {'g_max': 0.00011714975698851049},\n",
       " 'layer2.0.conv1.weight': {'g_max': 0.000162385797011666},\n",
       " 'layer2.0.bn1.weight': {'g_max': 0.00033471398637630045},\n",
       " 'layer2.0.bn1.bias': {'g_max': 0.0001952506136149168},\n",
       " 'layer2.0.conv2.weight': {'g_max': 0.00017886466230265796},\n",
       " 'layer2.0.bn2.weight': {'g_max': 0.000474899890832603},\n",
       " 'layer2.0.bn2.bias': {'g_max': 0.0002054861543001607},\n",
       " 'layer2.0.downsample.0.weight': {'g_max': 0.0003176008758600801},\n",
       " 'layer2.0.downsample.1.weight': {'g_max': 0.0002719267795328051},\n",
       " 'layer2.0.downsample.1.bias': {'g_max': 0.0002054861543001607},\n",
       " 'layer2.1.conv1.weight': {'g_max': 0.00031036659493111074},\n",
       " 'layer2.1.bn1.weight': {'g_max': 0.0003705750568769872},\n",
       " 'layer2.1.bn1.bias': {'g_max': 0.00020093591592740268},\n",
       " 'layer2.1.conv2.weight': {'g_max': 0.00028751970967277884},\n",
       " 'layer2.1.bn2.weight': {'g_max': 0.00022383184114005417},\n",
       " 'layer2.1.bn2.bias': {'g_max': 0.00018070737132802606},\n",
       " 'layer3.0.conv1.weight': {'g_max': 0.00018944697512779385},\n",
       " 'layer3.0.bn1.weight': {'g_max': 0.0002899436804000288},\n",
       " 'layer3.0.bn1.bias': {'g_max': 0.00027787662111222744},\n",
       " 'layer3.0.conv2.weight': {'g_max': 0.00011519077088451013},\n",
       " 'layer3.0.bn2.weight': {'g_max': 0.0003002005978487432},\n",
       " 'layer3.0.bn2.bias': {'g_max': 0.00017288574599660933},\n",
       " 'layer3.0.downsample.0.weight': {'g_max': 9.75411239778623e-05},\n",
       " 'layer3.0.downsample.1.weight': {'g_max': 0.0002621271996758878},\n",
       " 'layer3.0.downsample.1.bias': {'g_max': 0.00017288574599660933},\n",
       " 'layer3.1.conv1.weight': {'g_max': 0.00011378581257304177},\n",
       " 'layer3.1.bn1.weight': {'g_max': 0.0003488867951091379},\n",
       " 'layer3.1.bn1.bias': {'g_max': 0.00021368570742197335},\n",
       " 'layer3.1.conv2.weight': {'g_max': 0.00016383077309001237},\n",
       " 'layer3.1.bn2.weight': {'g_max': 0.00019389150838833302},\n",
       " 'layer3.1.bn2.bias': {'g_max': 0.00010057594045065343},\n",
       " 'layer4.0.conv1.weight': {'g_max': 0.00014132853539194912},\n",
       " 'layer4.0.bn1.weight': {'g_max': 0.0001930876460392028},\n",
       " 'layer4.0.bn1.bias': {'g_max': 0.00037627696292474866},\n",
       " 'layer4.0.conv2.weight': {'g_max': 0.00010443905921420082},\n",
       " 'layer4.0.bn2.weight': {'g_max': 0.0001801478792913258},\n",
       " 'layer4.0.bn2.bias': {'g_max': 0.00018348253797739744},\n",
       " 'layer4.0.downsample.0.weight': {'g_max': 0.000125208985991776},\n",
       " 'layer4.0.downsample.1.weight': {'g_max': 9.002877050079405e-05},\n",
       " 'layer4.0.downsample.1.bias': {'g_max': 0.00018348253797739744},\n",
       " 'layer4.1.conv1.weight': {'g_max': 7.400192407658324e-05},\n",
       " 'layer4.1.bn1.weight': {'g_max': 0.00017559116531629115},\n",
       " 'layer4.1.bn1.bias': {'g_max': 0.00014821936201769859},\n",
       " 'layer4.1.conv2.weight': {'g_max': 7.25444479030557e-05},\n",
       " 'layer4.1.bn2.weight': {'g_max': 7.544174150098115e-05},\n",
       " 'layer4.1.bn2.bias': {'g_max': 0.00010862095223274082},\n",
       " 'fc.weight': {'g_max': 1.4211599826812744},\n",
       " 'fc.bias': {'g_max': 1.0}}"
      ]
     },
     "execution_count": 3,
     "metadata": {},
     "output_type": "execute_result"
    }
   ],
   "source": [
    "def max_grad(model):\n",
    "    \"\"\"Máximo valor de gradiente de cada parâmetro.\"\"\"\n",
    "\n",
    "    stats = {}\n",
    "    # model.named_parameters() retorna os nomes e respectivos parâmetros do\n",
    "    # modelo\n",
    "    for param_name, param in model.named_parameters():\n",
    "        grad = param.grad\n",
    "        g_max = grad.max()\n",
    "        stats[param_name] = {'g_max':g_max.item()}\n",
    "\n",
    "    return stats\n",
    "\n",
    "# Aplica o modelo\n",
    "scores = model(img)\n",
    "# Calcula os gradientes (em um treinamento real seria loss.backward())\n",
    "scores.sum().backward()\n",
    "\n",
    "max_grad(model)"
   ]
  }
 ],
 "metadata": {
  "kernelspec": {
   "display_name": "vc2024",
   "language": "python",
   "name": "python3"
  },
  "language_info": {
   "codemirror_mode": {
    "name": "ipython",
    "version": 3
   },
   "file_extension": ".py",
   "mimetype": "text/x-python",
   "name": "python",
   "nbconvert_exporter": "python",
   "pygments_lexer": "ipython3",
   "version": "3.12.3"
  }
 },
 "nbformat": 4,
 "nbformat_minor": 2
}
