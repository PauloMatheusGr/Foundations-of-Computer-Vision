{
 "cells": [
  {
   "cell_type": "markdown",
   "metadata": {},
   "source": [
    "# Erros de classificação e test time augmentation\n",
    "\n",
    "1. Treinar uma resnet 18 para classificar o dataset Oxford Pets, ou utilizar o checkpoint da disciplina;\n",
    "2. Identificar as 10 imagens de cachorro do conjunto de validação para as quais o modelo \"mais errou\", ou seja, o modelo associou a menor probabilidade de ser cachorro. Fazer o mesmo para as imagens da classe gato;\n",
    "3. Realizar a técnica \"test time augmentation\" e verificar se as probabilidades dessas 20 imagens melhoram. \n",
    "\n",
    "A técnica \"test time augmentation\" consiste em criar diversas versões da mesma imagem usando data augmentation, aplicar o modelo nas imagens aumentadas e calcular a média das probabilidades nas imagens"
   ]
  },
  {
   "cell_type": "markdown",
   "metadata": {},
   "source": [
    "Exemplo"
   ]
  },
  {
   "cell_type": "code",
   "execution_count": 3,
   "metadata": {},
   "outputs": [],
   "source": [
    "import torch\n",
    "from torch import nn\n",
    "from torchvision import models\n",
    "\n",
    "model = models.resnet18(weights=models.ResNet18_Weights.DEFAULT)\n",
    "model.fc = nn.Linear(model.fc.in_features, 2)\n",
    "\n",
    "# Treinamento do modelo, ou carregamento dos pesos treinados de um checkpoint\n",
    "#..."
   ]
  },
  {
   "cell_type": "code",
   "execution_count": 10,
   "metadata": {},
   "outputs": [
    {
     "data": {
      "text/plain": [
       "tensor([0.3985, 0.6015])"
      ]
     },
     "execution_count": 10,
     "metadata": {},
     "output_type": "execute_result"
    }
   ],
   "source": [
    "def aug(x):\n",
    "    \"\"\"Aumento de dados\"\"\"\n",
    "    ...\n",
    "\n",
    "    return x\n",
    "\n",
    "model.eval();\n",
    "\n",
    "# Imagem aleatória de exemplo\n",
    "img = torch.rand(3, 224, 224)\n",
    "# Cria batch com 10 versões aumentadas da mesma imagem\n",
    "imgs = torch.stack([aug(img) for _ in range(10)])\n",
    "\n",
    "with torch.no_grad():\n",
    "    scores = model(imgs)\n",
    "probs = scores.softmax(dim=1)\n",
    "\n",
    "# Média das probabilidades para as 10 versões da mesma imagem\n",
    "probs_tta = probs.mean(dim=0)\n",
    "probs_tta"
   ]
  }
 ],
 "metadata": {
  "kernelspec": {
   "display_name": "vc2024",
   "language": "python",
   "name": "python3"
  },
  "language_info": {
   "codemirror_mode": {
    "name": "ipython",
    "version": 3
   },
   "file_extension": ".py",
   "mimetype": "text/x-python",
   "name": "python",
   "nbconvert_exporter": "python",
   "pygments_lexer": "ipython3",
   "version": "3.12.2"
  }
 },
 "nbformat": 4,
 "nbformat_minor": 2
}
