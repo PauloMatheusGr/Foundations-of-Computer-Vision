{
 "cells": [
  {
   "cell_type": "markdown",
   "metadata": {},
   "source": [
    "# Treinamento usando funções Pytorch\n",
    "\n",
    "Vamos substituir algumas funções que fizemos no notebook do módulo 1 por funções do Pytorch"
   ]
  },
  {
   "cell_type": "code",
   "execution_count": 1,
   "metadata": {},
   "outputs": [],
   "source": [
    "import numpy as np\n",
    "import matplotlib.pyplot as plt\n",
    "import torch\n",
    "from torch import nn\n",
    "import torch.nn.functional as F\n",
    "\n",
    "data = torch.from_numpy(np.loadtxt('../data/age_data_3.txt')).to(torch.float32)\n",
    "inputs, targets = data.T"
   ]
  },
  {
   "cell_type": "markdown",
   "metadata": {},
   "source": [
    "### Camada linear Pytorch\n",
    "\n",
    "A camada linear do Pytorch nada mais é do que uma combinação linear das variáveis de entrada. Ela possui os atributos .weight e .bias que são iguais aos atributos a e b que usamos no nosos modelo linear"
   ]
  },
  {
   "cell_type": "code",
   "execution_count": 3,
   "metadata": {},
   "outputs": [
    {
     "name": "stdout",
     "output_type": "stream",
     "text": [
      "Parameter containing:\n",
      "tensor([[0.3088]], requires_grad=True)\n",
      "Parameter containing:\n",
      "tensor([0.7994], requires_grad=True)\n"
     ]
    }
   ],
   "source": [
    "model = nn.Linear(in_features=1, out_features=1, bias=True)\n",
    "print(model.weight)\n",
    "print(model.bias)"
   ]
  },
  {
   "cell_type": "code",
   "execution_count": 4,
   "metadata": {},
   "outputs": [
    {
     "name": "stdout",
     "output_type": "stream",
     "text": [
      "tensor([[1.2256],\n",
      "        [1.1824],\n",
      "        [1.2009],\n",
      "        [1.2379],\n",
      "        [1.2287],\n",
      "        [1.1391],\n",
      "        [1.2009],\n",
      "        [1.1638],\n",
      "        [1.1669],\n",
      "        [1.1824]], grad_fn=<SliceBackward0>)\n",
      "tensor([[1.2256],\n",
      "        [1.1824],\n",
      "        [1.2009],\n",
      "        [1.2379],\n",
      "        [1.2287],\n",
      "        [1.1391],\n",
      "        [1.2009],\n",
      "        [1.1638],\n",
      "        [1.1669],\n",
      "        [1.1824]], grad_fn=<SliceBackward0>)\n"
     ]
    }
   ],
   "source": [
    "#Modelos do Pytorch sempre esperam um tensor com tamanho NxC1xC2..., onde N é o número\n",
    "#de instâncias que serão processadas e C1, C2, ... é a dimensão dos dados.\n",
    "#Para imagens, os dados terão tamanho NxHxW, onde H é o número de linhas e W o número \n",
    "#de colunas das imagens. Mas nos dados deste notebook, cada instância possui um único \n",
    "#atributo (altura):\n",
    "#                     dimensão Nx1\n",
    "inputs = inputs.reshape(len(inputs),1)\n",
    "targets = targets.reshape(len(targets),1)\n",
    "\n",
    "res = model(inputs)\n",
    "# imprime os 10 primeiros resultados\n",
    "print(res[:10])\n",
    "# O código acima faz a seguinte operação:\n",
    "res_comp = model.weight*inputs + model.bias\n",
    "print(res_comp[:10])"
   ]
  },
  {
   "cell_type": "markdown",
   "metadata": {},
   "source": [
    "### Treinamento usando funções do Pytorch\n",
    "\n",
    "Escreveremos um loop de treinamento substituindo algumas funções que implementamos por funções do Pytorch."
   ]
  },
  {
   "cell_type": "code",
   "execution_count": 5,
   "metadata": {},
   "outputs": [
    {
     "data": {
      "text/plain": [
       "[<matplotlib.lines.Line2D at 0x7fe84d982090>]"
      ]
     },
     "execution_count": 5,
     "metadata": {},
     "output_type": "execute_result"
    },
    {
     "data": {
      "image/png": "[encoded data removed]",
      "text/plain": [
       "<Figure size 640x480 with 1 Axes>"
      ]
     },
     "metadata": {},
     "output_type": "display_data"
    }
   ],
   "source": [
    "def train(model, inputs, targets, num_epochs, lr):\n",
    "\n",
    "    # Entropia cruzada\n",
    "    loss_func = nn.BCEWithLogitsLoss()\n",
    "    # Otimizador. SGD significa Stochastic Gradient Descent. O construtor recebe \n",
    "    # como entrada os parâmetros do modelo e a taxa de aprendizado\n",
    "    optim = torch.optim.SGD(model.parameters(), lr=lr)\n",
    "    losses = []\n",
    "    for epoch in range(0, num_epochs):\n",
    "        # Apaga os gradientes\n",
    "        optim.zero_grad()\n",
    "        scores = model(inputs)\n",
    "        loss = loss_func(scores, targets)\n",
    "        # Calcula os gradientes\n",
    "        loss.backward()\n",
    "        # Atualiza os gradientes\n",
    "        optim.step()\n",
    "        losses.append(loss.item())\n",
    "\n",
    "    return losses\n",
    "\n",
    "with torch.no_grad():\n",
    "    # [:] indica uma modificação inplace. Equivalente a\n",
    "    # model.weight.fill_(19.)\n",
    "    model.weight[:] = 19.\n",
    "    model.bias[:] = -25.\n",
    "\n",
    "losses = train(model, inputs, targets, num_epochs=100, lr=0.5)\n",
    "\n",
    "plt.plot(losses)"
   ]
  }
 ],
 "metadata": {
  "kernelspec": {
   "display_name": "pytorch",
   "language": "python",
   "name": "python3"
  },
  "language_info": {
   "codemirror_mode": {
    "name": "ipython",
    "version": 3
   },
   "file_extension": ".py",
   "mimetype": "text/x-python",
   "name": "python",
   "nbconvert_exporter": "python",
   "pygments_lexer": "ipython3",
   "version": "3.12.3"
  }
 },
 "nbformat": 4,
 "nbformat_minor": 2
}
