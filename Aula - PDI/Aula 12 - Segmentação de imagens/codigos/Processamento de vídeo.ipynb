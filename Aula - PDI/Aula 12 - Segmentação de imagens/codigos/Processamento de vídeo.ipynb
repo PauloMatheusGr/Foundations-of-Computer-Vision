{
 "cells": [
  {
   "cell_type": "markdown",
   "metadata": {},
   "source": [
    "# Processamento de Vídeo utilizando o OpenCV"
   ]
  },
  {
   "cell_type": "code",
   "execution_count": 5,
   "metadata": {},
   "outputs": [],
   "source": [
    "import cv2\n",
    "import numpy as np"
   ]
  },
  {
   "cell_type": "markdown",
   "metadata": {},
   "source": [
    "### 1. Leitura e processamento de um arquivo de vídeo "
   ]
  },
  {
   "cell_type": "code",
   "execution_count": 9,
   "metadata": {
    "scrolled": true
   },
   "outputs": [
    {
     "data": {
      "text/plain": [
       "-1"
      ]
     },
     "execution_count": 9,
     "metadata": {},
     "output_type": "execute_result"
    }
   ],
   "source": [
    "# Abre arquivo de vídeo\n",
    "vcap = cv2.VideoCapture('video.mp4')\n",
    "while True:\n",
    "    # Obtém próximo frame do vídeo. ret indica se o frame\n",
    "    # foi lido com sucesso, curr_frame possui a imagem\n",
    "    ret, curr_frame = vcap.read()\n",
    "    if ret==True:\n",
    "        # Aqui podemos aplicar métodos de processamento de imagem \n",
    "        # na imagem curr_frame. Por exemplo, transformar a imagem\n",
    "        # para nível de cinza\n",
    "        curr_frame_g = cv2.cvtColor(curr_frame, cv2.COLOR_BGR2GRAY)\n",
    "        curr_frame_g = np.dstack((curr_frame_g, curr_frame_g, curr_frame_g))\n",
    "        img = np.concatenate((curr_frame, curr_frame_g), axis=1)\n",
    "        cv2.imshow('frame', img)\n",
    "        \n",
    "    # cv2.waitKey(x) faz o programa esperar x milisegundos para que uma tecla \n",
    "    # seja digitada. Dependendo da plataforma, o resultado dessa função pode \n",
    "    # ser um número com mais de 8 bits. É comum que uma operação bitwise and \n",
    "    # seja feita entre o resultado dessa função e o número 0xff (11111111), \n",
    "    # de forma que apenas os 8 primeiros bits sejam mantidos. A tecla esc \n",
    "    # corresponde ao valor 27\n",
    "    key = cv2.waitKey(1) \n",
    "    if key == 27:\n",
    "        break\n",
    "\n",
    "# Libera o arquivo\n",
    "vcap.release()\n",
    "# Fecha a janela\n",
    "cv2.destroyAllWindows()\n",
    "# Para garantir que a janela será fechada\n",
    "cv2.waitKey(1)"
   ]
  },
  {
   "cell_type": "markdown",
   "metadata": {},
   "source": [
    "### 2. Leitura, processamento e escrita de um novo arquivo de vídeo\n",
    "\n",
    "A operação de escrita de vídeo pode ser problemática devido ao uso de codecs de vídeo"
   ]
  },
  {
   "cell_type": "code",
   "execution_count": 3,
   "metadata": {},
   "outputs": [],
   "source": [
    "def green_boost(img):\n",
    "    \n",
    "    green_channel = img[:,:,1]\n",
    "    new_green_channel = np.power(green_channel, 0.5)\n",
    "    new_green_channel_normalized = 255*new_green_channel/np.max(new_green_channel)\n",
    "    new_green_channel_normalized = np.round(new_green_channel_normalized).astype(np.uint8)\n",
    "    new_img = img.copy()\n",
    "    new_img[:,:,1] = new_green_channel_normalized\n",
    "    \n",
    "    return new_img\n",
    "\n",
    "vcap = cv2.VideoCapture('video.mp4')\n",
    "\n",
    "# Obtém informações sobre o vídeo. \n",
    "fps = vcap.get(cv2.CAP_PROP_FPS)\n",
    "w = int(vcap.get(cv2.CAP_PROP_FRAME_WIDTH))\n",
    "h = int(vcap.get(cv2.CAP_PROP_FRAME_HEIGHT))\n",
    "\n",
    "# Obtém o código associado com um dado codec de compressão de vídeo. MJPG\n",
    "# tende a funcionar em diferentes plataformas, mas é meio ruim. Uma boa\n",
    "# opção é o 'H264', mas é preciso que ele esteja instalado no sistema\n",
    "codec = cv2.VideoWriter_fourcc(*'MJPG')\n",
    "\n",
    "# Cria arquivo de saída\n",
    "video_writer = cv2.VideoWriter('output.mp4', codec, fps, (w,h))\n",
    "\n",
    "while True:\n",
    "    ret, curr_frame = vcap.read()\n",
    "    if ret==True:\n",
    "        new_frame = green_boost(curr_frame)        \n",
    "        video_writer.write(new_frame)\n",
    "    else:\n",
    "        break\n",
    "        \n",
    "vcap.release()\n",
    "video_writer.release()"
   ]
  },
  {
   "cell_type": "markdown",
   "metadata": {},
   "source": [
    "### 3. Leitura e processamento utilizando uma câmera"
   ]
  },
  {
   "cell_type": "code",
   "execution_count": 10,
   "metadata": {
    "scrolled": true
   },
   "outputs": [
    {
     "data": {
      "text/plain": [
       "-1"
      ]
     },
     "execution_count": 10,
     "metadata": {},
     "output_type": "execute_result"
    }
   ],
   "source": [
    "import scipy.ndimage as ndi\n",
    "\n",
    "def process_frame(img):\n",
    "    \n",
    "    img_gray = cv2.cvtColor(img, cv2.COLOR_BGR2GRAY)\n",
    "    img_gray = img_gray.astype(float)\n",
    "    grad_mag = ndi.gaussian_gradient_magnitude(img_gray, sigma=2)\n",
    "    grad_mag_norm = grad_mag - np.min(grad_mag)\n",
    "    grad_mag_norm = 255*grad_mag_norm/np.max(grad_mag_norm)\n",
    "    grad_mag_norm = np.round(grad_mag_norm).astype(np.uint8)    \n",
    "    return grad_mag_norm\n",
    "    \n",
    "# Abre dispositivo de captura. O parâmetro 0 faz com que\n",
    "# a primeira câmera encontrada seja utilizada\n",
    "vcap = cv2.VideoCapture(0)\n",
    "\n",
    "while True:\n",
    "    ret, curr_frame = vcap.read()\n",
    "    if ret==True:\n",
    "        # Redimensionamos a imagem para diminuir o custo computacional\n",
    "        # necessário para processar o frame\n",
    "        resized_frame = cv2.resize(curr_frame, (640, 360))\n",
    "        processed_frame = process_frame(resized_frame)\n",
    "               \n",
    "        cv2.imshow('frame', processed_frame)\n",
    "    else:\n",
    "        print(\"Frame not available\")\n",
    "        \n",
    "    # Esperar 33 milisegundos significa mostrar 30 imagens por segundo (1/0.033).\n",
    "    # Portanto, o FPS (frames per second) do vídeo mostrado será aproximadamente 30.\n",
    "    # O valor não é exatamente 30 porque um tempo é gasto no processamento do frame\n",
    "    key = cv2.waitKey(33) & 0xff\n",
    "\n",
    "    if key == 27:\n",
    "        break\n",
    "\n",
    "vcap.release()\n",
    "cv2.destroyAllWindows()\n",
    "cv2.waitKey(1)"
   ]
  },
  {
   "cell_type": "code",
   "execution_count": null,
   "metadata": {},
   "outputs": [],
   "source": []
  }
 ],
 "metadata": {
  "kernelspec": {
   "display_name": "Python 3 (ipykernel)",
   "language": "python",
   "name": "python3"
  },
  "language_info": {
   "codemirror_mode": {
    "name": "ipython",
    "version": 3
   },
   "file_extension": ".py",
   "mimetype": "text/x-python",
   "name": "python",
   "nbconvert_exporter": "python",
   "pygments_lexer": "ipython3",
   "version": "3.11.5"
  }
 },
 "nbformat": 4,
 "nbformat_minor": 4
}
