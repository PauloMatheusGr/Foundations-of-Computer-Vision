{
 "cells": [
  {
   "cell_type": "markdown",
   "metadata": {},
   "source": [
    "# Análise de Componentes Principais (PCA)"
   ]
  },
  {
   "cell_type": "markdown",
   "metadata": {},
   "source": [
    "## 1. Definição das propriedades a serem utilizadas"
   ]
  },
  {
   "cell_type": "code",
   "execution_count": 18,
   "metadata": {},
   "outputs": [],
   "source": [
    "import os\n",
    "import numpy as np\n",
    "import matplotlib.pyplot as plt\n",
    "import scipy.ndimage as ndi\n",
    "import img_props\n",
    "\n",
    "def correct_image(img):\n",
    "    '''Corrige dois problems observados na base de dados: 1. Algumas imagens\n",
    "       apresentam conjuntos de pixels brancos separados do objeto principal. \n",
    "       Portanto precisamos encontrar e manter apenas o maior componente conexo\n",
    "       nessas imagens. 2. Em algumas imagens, o objeto não está preenchido.\n",
    "       Portanto, precisamos preenchê-los.'''\n",
    "    \n",
    "    img = np.pad(img, 1)\n",
    "    \n",
    "    # Obtenção do maior componente conexo utilizando funções do scipy\n",
    "    img_lab, num_comp = ndi.label(img, np.ones((3,3)))\n",
    "    tam_comps = ndi.sum(img, img_lab, range(1, num_comp+1))\n",
    "    index_largest_comp = np.argmax(tam_comps) + 1\n",
    "    img_largest_comp = img_lab==index_largest_comp\n",
    "\n",
    "    # Obtenção do maior componente conexo de background. A ideia é\n",
    "    # que buracos no interior do objeto representam componentes conexos\n",
    "    # pequenos, que serão eliminados se apenas o maior componente de\n",
    "    # background for mantido\n",
    "    img_inv = np.logical_not(img_largest_comp)   # Inverte a imagem\n",
    "    img_lab, num_comp = ndi.label(img_inv, np.ones((3,3)))\n",
    "    tam_comps = ndi.sum(img_inv, img_lab, range(1, num_comp+1))\n",
    "    index_largest_comp = np.argmax(tam_comps) + 1\n",
    "    img_largest_comp_filled = img_lab==index_largest_comp \n",
    "    \n",
    "    # Inverte novamente a imagem\n",
    "    img_largest_comp_filled = np.logical_not(img_largest_comp_filled)  \n",
    "    img_largest_comp_filled = img_largest_comp_filled[1:-1, 1:-1]\n",
    "    \n",
    "    return img_largest_comp_filled.astype(np.uint8)\n",
    "      "
   ]
  },
  {
   "cell_type": "markdown",
   "metadata": {},
   "source": [
    "## 2. Obtenção das propriedades das imagens da base"
   ]
  },
  {
   "cell_type": "code",
   "execution_count": 19,
   "metadata": {},
   "outputs": [],
   "source": [
    "input_folder = 'imagens/'\n",
    "files = sorted(os.listdir(input_folder))    # Lista todos os arquivos no diretório input_folder\n",
    "num_files = len(files)\n",
    "\n",
    "measurements = np.zeros((num_files, 4))\n",
    "for file_index, file in enumerate(files):\n",
    "    img = plt.imread(input_folder+file)\n",
    "    img = (img>0).astype(np.uint8)\n",
    "    \n",
    "    # Se a imagem possuir 3 dimensões, é porque ela não possui apenas\n",
    "    # 1 canal. Nesse caso, mantemos apenas o primeiro canal\n",
    "    if img.ndim==3:\n",
    "        img = img[:,:,0]\n",
    "    \n",
    "    img_corrected = correct_image(img)\n",
    "    \n",
    "    circularity = img_props.get_circularity(img_corrected)\n",
    "    dist_to_centroid = img_props.get_distance_to_centroid(img_corrected)\n",
    "    props = img_props.get_distance_to_centroid_props(dist_to_centroid)\n",
    "    max_dist_to_centroid, min_dist_to_centroid, std_dist_to_centroid = props\n",
    "    \n",
    "    measurements[file_index] = [circularity, max_dist_to_centroid, \n",
    "                                min_dist_to_centroid, std_dist_to_centroid]\n",
    "    "
   ]
  },
  {
   "cell_type": "markdown",
   "metadata": {},
   "source": [
    "A variável measurements é uma matriz na qual cada linha representa uma imagem e cada coluna uma propriedade calculada. Ou seja, cada linha dessa matriz representa uma imagem localizada em um espaço de atributos 4 dimensões (pois a matriz tem 4 colunas)."
   ]
  },
  {
   "cell_type": "code",
   "execution_count": 20,
   "metadata": {},
   "outputs": [
    {
     "name": "stdout",
     "output_type": "stream",
     "text": [
      "[[ 1.          0.08009629  0.34296897  0.13511862]\n",
      " [ 0.08009629  1.         -0.32153962  0.78060863]\n",
      " [ 0.34296897 -0.32153962  1.         -0.61117118]\n",
      " [ 0.13511862  0.78060863 -0.61117118  1.        ]]\n"
     ]
    }
   ],
   "source": [
    "corr_mat = np.corrcoef(measurements.T)\n",
    "print(corr_mat)"
   ]
  },
  {
   "cell_type": "markdown",
   "metadata": {},
   "source": [
    "## 3. Aplicação do PCA implementado na biblioteca scikit-learn"
   ]
  },
  {
   "cell_type": "markdown",
   "metadata": {},
   "source": [
    "Vamos aplicar o PCA para definir 2 novos atributos. Veremos se esses 2 atributos podem ser utilizados para separar as duas categorias de imagens."
   ]
  },
  {
   "cell_type": "code",
   "execution_count": 17,
   "metadata": {},
   "outputs": [
    {
     "data": {
      "text/plain": [
       "[<matplotlib.lines.Line2D at 0x7f9e60d85730>]"
      ]
     },
     "execution_count": 17,
     "metadata": {},
     "output_type": "execute_result"
    },
    {
     "data": {
      "image/png": "[encoded data removed]",
      "text/plain": [
       "<Figure size 320x240 with 1 Axes>"
      ]
     },
     "metadata": {},
     "output_type": "display_data"
    }
   ],
   "source": [
    "from sklearn.decomposition import PCA\n",
    "from sklearn.preprocessing import scale    # z-score\n",
    "\n",
    "# Normaliza medidas, de forma que cada coluna de measurements_norm\n",
    "# possui média 0 e desvio padrão 1\n",
    "measurements_norm = scale(measurements, axis=0)\n",
    "\n",
    "# Cria instância da classe PCA, com projeção em 2 eixos (2D), e aplica\n",
    "# o PCA nos dados\n",
    "pca_instance = PCA(n_components=2)\n",
    "proj_data = pca_instance.fit_transform(measurements_norm)\n",
    "\n",
    "# Plota cada metade dos pontos com uma cor diferente\n",
    "plt.plot(proj_data[:20,0], proj_data[:20,1], 'bo')\n",
    "plt.plot(proj_data[20:,0], proj_data[20:,1], 'ro')"
   ]
  },
  {
   "cell_type": "code",
   "execution_count": 10,
   "metadata": {},
   "outputs": [
    {
     "name": "stdout",
     "output_type": "stream",
     "text": [
      "[0.54083926 0.30803046]\n",
      "[[ 0.03525952 -0.57056593  0.50700054 -0.64510598]\n",
      " [ 0.84257226  0.25255162  0.44373801  0.17142417]]\n"
     ]
    }
   ],
   "source": [
    "print(pca_instance.explained_variance_ratio_)\n",
    "print(pca_instance.components_)"
   ]
  },
  {
   "cell_type": "code",
   "execution_count": null,
   "metadata": {},
   "outputs": [],
   "source": []
  }
 ],
 "metadata": {
  "kernelspec": {
   "display_name": "Python 3 (ipykernel)",
   "language": "python",
   "name": "python3"
  },
  "language_info": {
   "codemirror_mode": {
    "name": "ipython",
    "version": 3
   },
   "file_extension": ".py",
   "mimetype": "text/x-python",
   "name": "python",
   "nbconvert_exporter": "python",
   "pygments_lexer": "ipython3",
   "version": "3.8.13"
  }
 },
 "nbformat": 4,
 "nbformat_minor": 2
}
